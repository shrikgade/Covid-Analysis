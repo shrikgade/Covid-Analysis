{
  "nbformat": 4,
  "nbformat_minor": 0,
  "metadata": {
    "colab": {
      "name": "Final Covid 19 Dashboard.ipynb",
      "provenance": [],
      "authorship_tag": "ABX9TyNuWEiAzSlF+WuJmgztBqGP",
      "include_colab_link": true
    },
    "kernelspec": {
      "name": "python3",
      "display_name": "Python 3"
    }
  },
  "cells": [
    {
      "cell_type": "markdown",
      "metadata": {
        "id": "view-in-github",
        "colab_type": "text"
      },
      "source": [
        "<a href=\"https://colab.research.google.com/github/arushikhokhar/Covid-19-visual-dashboard/blob/master/Final_Covid_19_Dashboard.ipynb\" target=\"_parent\"><img src=\"https://colab.research.google.com/assets/colab-badge.svg\" alt=\"Open In Colab\"/></a>"
      ]
    },
    {
      "cell_type": "code",
      "metadata": {
        "id": "6TbFAVaIMNrG",
        "colab_type": "code",
        "colab": {}
      },
      "source": [
        ""
      ],
      "execution_count": 0,
      "outputs": []
    },
    {
      "cell_type": "code",
      "metadata": {
        "id": "9GrBj1rw9KJB",
        "colab_type": "code",
        "colab": {}
      },
      "source": [
        "import requests\n",
        "import pandas as pd"
      ],
      "execution_count": 0,
      "outputs": []
    },
    {
      "cell_type": "code",
      "metadata": {
        "id": "RMgM2EkZ6CAc",
        "colab_type": "code",
        "colab": {}
      },
      "source": [
        "raw= requests.get(\"https://services1.arcgis.com/0MSEUqKaxRlEPj5g/arcgis/rest/services/ncov_cases2_v1/FeatureServer/2/query?where=1%3D1&outFields=*&outSR=4326&f=json\")\n",
        "raw_json = raw.json()\n",
        "d = pd.DataFrame(raw_json[\"features\"])"
      ],
      "execution_count": 0,
      "outputs": []
    },
    {
      "cell_type": "code",
      "metadata": {
        "id": "VTy4J2t-6Gjt",
        "colab_type": "code",
        "outputId": "3623dbc2-2537-48e0-dfe1-d5cb4c6a2c2d",
        "colab": {
          "base_uri": "https://localhost:8080/",
          "height": 204
        }
      },
      "source": [
        "data_list = d[\"attributes\"].tolist()\n",
        "df = pd.DataFrame(data_list)\n",
        "df.set_index(\"OBJECTID\")\n",
        "df = df[[\"Country_Region\", \"Lat\", \"Long_\", \"Confirmed\", \"Deaths\", \"Recovered\"]]\n",
        "df.head()"
      ],
      "execution_count": 3,
      "outputs": [
        {
          "output_type": "execute_result",
          "data": {
            "text/html": [
              "<div>\n",
              "<style scoped>\n",
              "    .dataframe tbody tr th:only-of-type {\n",
              "        vertical-align: middle;\n",
              "    }\n",
              "\n",
              "    .dataframe tbody tr th {\n",
              "        vertical-align: top;\n",
              "    }\n",
              "\n",
              "    .dataframe thead th {\n",
              "        text-align: right;\n",
              "    }\n",
              "</style>\n",
              "<table border=\"1\" class=\"dataframe\">\n",
              "  <thead>\n",
              "    <tr style=\"text-align: right;\">\n",
              "      <th></th>\n",
              "      <th>Country_Region</th>\n",
              "      <th>Lat</th>\n",
              "      <th>Long_</th>\n",
              "      <th>Confirmed</th>\n",
              "      <th>Deaths</th>\n",
              "      <th>Recovered</th>\n",
              "    </tr>\n",
              "  </thead>\n",
              "  <tbody>\n",
              "    <tr>\n",
              "      <th>0</th>\n",
              "      <td>Australia</td>\n",
              "      <td>-25.0000</td>\n",
              "      <td>133.0000</td>\n",
              "      <td>7229</td>\n",
              "      <td>102</td>\n",
              "      <td>6640</td>\n",
              "    </tr>\n",
              "    <tr>\n",
              "      <th>1</th>\n",
              "      <td>Austria</td>\n",
              "      <td>47.5162</td>\n",
              "      <td>14.5501</td>\n",
              "      <td>16771</td>\n",
              "      <td>670</td>\n",
              "      <td>15672</td>\n",
              "    </tr>\n",
              "    <tr>\n",
              "      <th>2</th>\n",
              "      <td>Canada</td>\n",
              "      <td>60.0010</td>\n",
              "      <td>-95.0010</td>\n",
              "      <td>94600</td>\n",
              "      <td>7576</td>\n",
              "      <td>51441</td>\n",
              "    </tr>\n",
              "    <tr>\n",
              "      <th>3</th>\n",
              "      <td>China</td>\n",
              "      <td>30.5928</td>\n",
              "      <td>114.3055</td>\n",
              "      <td>84159</td>\n",
              "      <td>4638</td>\n",
              "      <td>79400</td>\n",
              "    </tr>\n",
              "    <tr>\n",
              "      <th>4</th>\n",
              "      <td>Denmark</td>\n",
              "      <td>56.2639</td>\n",
              "      <td>9.5018</td>\n",
              "      <td>11971</td>\n",
              "      <td>580</td>\n",
              "      <td>10750</td>\n",
              "    </tr>\n",
              "  </tbody>\n",
              "</table>\n",
              "</div>"
            ],
            "text/plain": [
              "  Country_Region      Lat     Long_  Confirmed  Deaths  Recovered\n",
              "0      Australia -25.0000  133.0000       7229     102       6640\n",
              "1        Austria  47.5162   14.5501      16771     670      15672\n",
              "2         Canada  60.0010  -95.0010      94600    7576      51441\n",
              "3          China  30.5928  114.3055      84159    4638      79400\n",
              "4        Denmark  56.2639    9.5018      11971     580      10750"
            ]
          },
          "metadata": {
            "tags": []
          },
          "execution_count": 3
        }
      ]
    },
    {
      "cell_type": "code",
      "metadata": {
        "id": "Y4mJRtre6Ia4",
        "colab_type": "code",
        "colab": {}
      },
      "source": [
        "message = df[\"Country_Region\"] + \"<br>\"\n",
        "message += \"Confirmed: \" + df[\"Confirmed\"].astype(str) + \"<br>\"\n",
        "message += \"Deaths: \" + df[\"Deaths\"].astype(str) + \"<br>\"\n",
        "message += \"Recovered: \" + df[\"Recovered\"].astype(str) + \"<br>\"\n",
        "df[\"text\"] = message"
      ],
      "execution_count": 0,
      "outputs": []
    },
    {
      "cell_type": "code",
      "metadata": {
        "id": "EoOb8PqM6NVX",
        "colab_type": "code",
        "colab": {}
      },
      "source": [
        "import plotly.graph_objects as go\n",
        "import plotly.express as px\n",
        "from plotly.subplots import make_subplots"
      ],
      "execution_count": 0,
      "outputs": []
    },
    {
      "cell_type": "code",
      "metadata": {
        "id": "6QSvW0Qa6k0D",
        "colab_type": "code",
        "colab": {}
      },
      "source": [
        "message = df[\"Country_Region\"] + \"<br>\"\n",
        "message += \"Confirmed: \" + df[\"Confirmed\"].astype(str) + \"<br>\"\n",
        "message += \"Deaths: \" + df[\"Deaths\"].astype(str) + \"<br>\"\n",
        "message += \"Recovered: \" + df[\"Recovered\"].astype(str) + \"<br>\"\n",
        "df[\"text\"] = message"
      ],
      "execution_count": 0,
      "outputs": []
    },
    {
      "cell_type": "code",
      "metadata": {
        "id": "SXiiItJw6mEU",
        "colab_type": "code",
        "colab": {}
      },
      "source": [
        "fig = make_subplots(\n",
        "    rows = 4, cols = 6,\n",
        "\n",
        "    specs=[\n",
        "            [{\"type\": \"scattergeo\", \"rowspan\": 4, \"colspan\": 3}, None, None, {\"type\": \"indicator\"}, {\"type\": \"indicator\"}, {\"type\": \"indicator\"} ],\n",
        "            [    None, None, None,               {\"type\": \"bar\", \"colspan\":3}, None, None],\n",
        "            [    None, None, None,              {\"type\": \"bar\", \"colspan\":3}, None, None],\n",
        "            [    None, None, None,               {\"type\": \"bar\", \"colspan\":3}, None, None],\n",
        "          ]\n",
        ")"
      ],
      "execution_count": 0,
      "outputs": []
    },
    {
      "cell_type": "code",
      "metadata": {
        "id": "oHt9jJQ58Tbt",
        "colab_type": "code",
        "colab": {}
      },
      "source": [
        "df_top10 = df.nlargest(10, \"Confirmed\")\n",
        "top10_countries_1 = df_top10[\"Country_Region\"].tolist()\n",
        "top10_confirmed = df_top10[\"Confirmed\"].tolist()\n",
        "\n",
        "df_top20 = df.nlargest(10, \"Recovered\")\n",
        "top10_countries_2 = df_top20[\"Country_Region\"].tolist()\n",
        "top10_recovered = df_top20[\"Recovered\"].tolist()\n",
        "\n",
        "df_top30 = df.nlargest(10, \"Deaths\")\n",
        "top10_countries_3 = df_top30[\"Country_Region\"].tolist()\n",
        "top10_deaths = df_top30[\"Deaths\"].tolist()"
      ],
      "execution_count": 0,
      "outputs": []
    },
    {
      "cell_type": "code",
      "metadata": {
        "id": "nxV1V6O98swz",
        "colab_type": "code",
        "colab": {}
      },
      "source": [
        "total_confirmed = df[\"Confirmed\"].sum()\n",
        "total_recovered = df[\"Recovered\"].sum()\n",
        "total_deaths = df[\"Deaths\"].sum()"
      ],
      "execution_count": 0,
      "outputs": []
    },
    {
      "cell_type": "code",
      "metadata": {
        "id": "Ds4oPDnVF5o4",
        "colab_type": "code",
        "outputId": "a38c303f-8b18-4fd7-ba73-487b3dda7f6c",
        "colab": {
          "base_uri": "https://localhost:8080/",
          "height": 542
        }
      },
      "source": [
        "fig.add_trace(\n",
        "    go.Scattergeo(\n",
        "        locationmode = \"country names\",\n",
        "        lon = df[\"Long_\"],\n",
        "        lat = df[\"Lat\"],\n",
        "        hovertext = df[\"text\"],\n",
        "        showlegend=False,\n",
        "        marker = dict(\n",
        "            size = 10,\n",
        "            opacity = 0.5,\n",
        "            reversescale = True,\n",
        "            autocolorscale = True,\n",
        "            symbol = 'circle',\n",
        "            line = dict(\n",
        "                width=1,\n",
        "                color='white'\n",
        "            ),\n",
        "            cmin = 0,\n",
        "            color = df['Confirmed'],\n",
        "            cmax = df['Confirmed'].max(),\n",
        "        )\n",
        "\n",
        "    ),\n",
        "    \n",
        "    row=1, col=1\n",
        ")\n",
        "\n",
        "fig.add_trace(\n",
        "    go.Indicator(\n",
        "        mode=\"number\",\n",
        "        value=total_confirmed,\n",
        "        title=\"Confirmed Cases\",\n",
        "    ),\n",
        "    row=1, col=4\n",
        ")\n",
        "fig.add_trace(\n",
        "    go.Indicator(\n",
        "        mode=\"number\",\n",
        "        value=total_recovered,\n",
        "        title=\"Recovered Cases\",\n",
        "    ),\n",
        "    row=1, col=5\n",
        ")\n",
        "\n",
        "fig.add_trace(\n",
        "    go.Indicator(\n",
        "        mode=\"number\",\n",
        "        value=total_deaths,\n",
        "        title=\"Deaths\",\n",
        "    ),\n",
        "    row=1, col=6\n",
        ")\n",
        "\n",
        "fig.add_trace(\n",
        "    go.Bar(\n",
        "        x=top10_countries_1,\n",
        "        y=top10_confirmed, \n",
        "        name= \"Confirmed Cases\",\n",
        "        marker=dict(color=\"#001a66\"), \n",
        "        showlegend=False,\n",
        "    ),\n",
        "    row=2, col=4\n",
        ")\n",
        "\n",
        "fig.add_trace(\n",
        "    go.Bar(x=top10_countries_2,\n",
        "        y=top10_recovered, \n",
        "        name= \"Recovered Cases\",\n",
        "        marker=dict(color=\"#004d99\"), \n",
        "        showlegend=False),\n",
        "    row=3, col=4\n",
        ")\n",
        "\n",
        "fig.add_trace(\n",
        "    go.Bar(\n",
        "        x=top10_countries_3,\n",
        "        y=top10_deaths, \n",
        "        name= \"Deaths\",\n",
        "        marker=dict(color=\"#809fff\"), \n",
        "        showlegend=False),\n",
        "    row=4, col=4\n",
        ")\n",
        "fig.update_layout(\n",
        "    template=\"plotly_white\",\n",
        "    title = \"Global COVID-19 Cases\",\n",
        "    showlegend=False,\n",
        "    legend_orientation=\"h\",\n",
        "    legend=dict(x=0.65, y=0.8),\n",
        ")\n"
      ],
      "execution_count": 10,
      "outputs": [
        {
          "output_type": "display_data",
          "data": {
            "text/html": [
              "<html>\n",
              "<head><meta charset=\"utf-8\" /></head>\n",
              "<body>\n",
              "    <div>\n",
              "            <script src=\"https://cdnjs.cloudflare.com/ajax/libs/mathjax/2.7.5/MathJax.js?config=TeX-AMS-MML_SVG\"></script><script type=\"text/javascript\">if (window.MathJax) {MathJax.Hub.Config({SVG: {font: \"STIX-Web\"}});}</script>\n",
              "                <script type=\"text/javascript\">window.PlotlyConfig = {MathJaxConfig: 'local'};</script>\n",
              "        <script src=\"https://cdn.plot.ly/plotly-latest.min.js\"></script>    \n",
              "            <div id=\"2fad9e78-65ae-4764-851e-c10cb48bdbdc\" class=\"plotly-graph-div\" style=\"height:525px; width:100%;\"></div>\n",
              "            <script type=\"text/javascript\">\n",
              "                \n",
              "                    window.PLOTLYENV=window.PLOTLYENV || {};\n",
              "                    \n",
              "                if (document.getElementById(\"2fad9e78-65ae-4764-851e-c10cb48bdbdc\")) {\n",
              "                    Plotly.newPlot(\n",
              "                        '2fad9e78-65ae-4764-851e-c10cb48bdbdc',\n",
              "                        [{\"geo\": \"geo\", \"hovertext\": [\"Australia<br>Confirmed: 7229<br>Deaths: 102<br>Recovered: 6640<br>\", \"Austria<br>Confirmed: 16771<br>Deaths: 670<br>Recovered: 15672<br>\", \"Canada<br>Confirmed: 94600<br>Deaths: 7576<br>Recovered: 51441<br>\", \"China<br>Confirmed: 84159<br>Deaths: 4638<br>Recovered: 79400<br>\", \"Denmark<br>Confirmed: 11971<br>Deaths: 580<br>Recovered: 10750<br>\", \"Finland<br>Confirmed: 6911<br>Deaths: 321<br>Recovered: 5500<br>\", \"France<br>Confirmed: 114400<br>Deaths: 29024<br>Recovered: 69573<br>\", \"Germany<br>Confirmed: 184121<br>Deaths: 8602<br>Recovered: 167453<br>\", \"Iceland<br>Confirmed: 1806<br>Deaths: 10<br>Recovered: 1794<br>\", \"Ireland<br>Confirmed: 25111<br>Deaths: 1659<br>Recovered: 22698<br>\", \"Italy<br>Confirmed: 233836<br>Deaths: 33601<br>Recovered: 160938<br>\", \"Netherlands<br>Confirmed: 46938<br>Deaths: 5996<br>Recovered: 180<br>\", \"Norway<br>Confirmed: 8467<br>Deaths: 237<br>Recovered: 7727<br>\", \"Russia<br>Confirmed: 431715<br>Deaths: 5208<br>Recovered: 195559<br>\", \"Sweden<br>Confirmed: 40803<br>Deaths: 4542<br>Recovered: 0<br>\", \"Switzerland<br>Confirmed: 30893<br>Deaths: 1921<br>Recovered: 28600<br>\", \"United Kingdom<br>Confirmed: 281265<br>Deaths: 39811<br>Recovered: 1211<br>\", \"US<br>Confirmed: 1847412<br>Deaths: 107023<br>Recovered: 463868<br>\", \"Spain<br>Confirmed: 240326<br>Deaths: 27128<br>Recovered: 150376<br>\", \"Mexico<br>Confirmed: 97326<br>Deaths: 10637<br>Recovered: 69749<br>\", \"Chile<br>Confirmed: 113628<br>Deaths: 1275<br>Recovered: 21605<br>\", \"Brazil<br>Confirmed: 555383<br>Deaths: 31199<br>Recovered: 223638<br>\", \"Peru<br>Confirmed: 178914<br>Deaths: 4894<br>Recovered: 72319<br>\", \"Colombia<br>Confirmed: 31935<br>Deaths: 1057<br>Recovered: 11171<br>\", \"Japan<br>Confirmed: 16867<br>Deaths: 905<br>Recovered: 14702<br>\", \"Ukraine<br>Confirmed: 25385<br>Deaths: 742<br>Recovered: 10838<br>\", \"Afghanistan<br>Confirmed: 17267<br>Deaths: 294<br>Recovered: 1522<br>\", \"Albania<br>Confirmed: 1184<br>Deaths: 33<br>Recovered: 898<br>\", \"Algeria<br>Confirmed: 9733<br>Deaths: 673<br>Recovered: 6218<br>\", \"Andorra<br>Confirmed: 851<br>Deaths: 51<br>Recovered: 735<br>\", \"Angola<br>Confirmed: 86<br>Deaths: 4<br>Recovered: 18<br>\", \"Antigua and Barbuda<br>Confirmed: 26<br>Deaths: 3<br>Recovered: 20<br>\", \"Argentina<br>Confirmed: 18319<br>Deaths: 570<br>Recovered: 5896<br>\", \"Armenia<br>Confirmed: 10524<br>Deaths: 170<br>Recovered: 3454<br>\", \"Azerbaijan<br>Confirmed: 6260<br>Deaths: 76<br>Recovered: 3665<br>\", \"Bahamas<br>Confirmed: 102<br>Deaths: 11<br>Recovered: 49<br>\", \"Bahrain<br>Confirmed: 12815<br>Deaths: 20<br>Recovered: 7410<br>\", \"Bangladesh<br>Confirmed: 55140<br>Deaths: 746<br>Recovered: 11590<br>\", \"Barbados<br>Confirmed: 92<br>Deaths: 7<br>Recovered: 81<br>\", \"Belarus<br>Confirmed: 45116<br>Deaths: 248<br>Recovered: 20171<br>\", \"Belgium<br>Confirmed: 58685<br>Deaths: 9522<br>Recovered: 15959<br>\", \"Belize<br>Confirmed: 18<br>Deaths: 2<br>Recovered: 16<br>\", \"Benin<br>Confirmed: 244<br>Deaths: 3<br>Recovered: 148<br>\", \"Bhutan<br>Confirmed: 47<br>Deaths: 0<br>Recovered: 9<br>\", \"Bolivia<br>Confirmed: 10991<br>Deaths: 376<br>Recovered: 1298<br>\", \"Bosnia and Herzegovina<br>Confirmed: 2551<br>Deaths: 157<br>Recovered: 1939<br>\", \"Botswana<br>Confirmed: 40<br>Deaths: 1<br>Recovered: 23<br>\", \"Brunei<br>Confirmed: 141<br>Deaths: 2<br>Recovered: 138<br>\", \"Bulgaria<br>Confirmed: 2560<br>Deaths: 146<br>Recovered: 1206<br>\", \"Burkina Faso<br>Confirmed: 884<br>Deaths: 53<br>Recovered: 753<br>\", \"Burma<br>Confirmed: 233<br>Deaths: 6<br>Recovered: 145<br>\", \"Burundi<br>Confirmed: 63<br>Deaths: 1<br>Recovered: 33<br>\", \"Cabo Verde<br>Confirmed: 477<br>Deaths: 5<br>Recovered: 238<br>\", \"Cambodia<br>Confirmed: 125<br>Deaths: 0<br>Recovered: 123<br>\", \"Cameroon<br>Confirmed: 6585<br>Deaths: 200<br>Recovered: 3676<br>\", \"Central African Republic<br>Confirmed: 1173<br>Deaths: 4<br>Recovered: 23<br>\", \"Chad<br>Confirmed: 820<br>Deaths: 66<br>Recovered: 590<br>\", \"Comoros<br>Confirmed: 132<br>Deaths: 2<br>Recovered: 27<br>\", \"Congo (Brazzaville)<br>Confirmed: 611<br>Deaths: 20<br>Recovered: 179<br>\", \"Congo (Kinshasa)<br>Confirmed: 3495<br>Deaths: 75<br>Recovered: 492<br>\", \"Costa Rica<br>Confirmed: 1157<br>Deaths: 10<br>Recovered: 685<br>\", \"Cote d'Ivoire<br>Confirmed: 3110<br>Deaths: 35<br>Recovered: 1530<br>\", \"Croatia<br>Confirmed: 2246<br>Deaths: 103<br>Recovered: 2095<br>\", \"Cuba<br>Confirmed: 2107<br>Deaths: 83<br>Recovered: 1830<br>\", \"Cyprus<br>Confirmed: 958<br>Deaths: 17<br>Recovered: 790<br>\", \"Czechia<br>Confirmed: 9414<br>Deaths: 325<br>Recovered: 6748<br>\", \"Diamond Princess<br>Confirmed: 712<br>Deaths: 13<br>Recovered: 651<br>\", \"Djibouti<br>Confirmed: 3935<br>Deaths: 26<br>Recovered: 1636<br>\", \"Dominica<br>Confirmed: 18<br>Deaths: 0<br>Recovered: 16<br>\", \"Dominican Republic<br>Confirmed: 18040<br>Deaths: 516<br>Recovered: 11224<br>\", \"Ecuador<br>Confirmed: 40414<br>Deaths: 3438<br>Recovered: 20019<br>\", \"Egypt<br>Confirmed: 28615<br>Deaths: 1088<br>Recovered: 7350<br>\", \"El Salvador<br>Confirmed: 2705<br>Deaths: 49<br>Recovered: 1179<br>\", \"Equatorial Guinea<br>Confirmed: 1306<br>Deaths: 12<br>Recovered: 200<br>\", \"Eritrea<br>Confirmed: 39<br>Deaths: 0<br>Recovered: 39<br>\", \"Estonia<br>Confirmed: 1880<br>Deaths: 69<br>Recovered: 1650<br>\", \"Eswatini<br>Confirmed: 295<br>Deaths: 3<br>Recovered: 201<br>\", \"Ethiopia<br>Confirmed: 1486<br>Deaths: 17<br>Recovered: 246<br>\", \"Fiji<br>Confirmed: 18<br>Deaths: 0<br>Recovered: 15<br>\", \"Gabon<br>Confirmed: 2902<br>Deaths: 20<br>Recovered: 801<br>\", \"Gambia<br>Confirmed: 26<br>Deaths: 1<br>Recovered: 20<br>\", \"Georgia<br>Confirmed: 800<br>Deaths: 13<br>Recovered: 640<br>\", \"Ghana<br>Confirmed: 8548<br>Deaths: 38<br>Recovered: 3132<br>\", \"Greece<br>Confirmed: 2937<br>Deaths: 179<br>Recovered: 1374<br>\", \"Grenada<br>Confirmed: 23<br>Deaths: 0<br>Recovered: 18<br>\", \"Guatemala<br>Confirmed: 5586<br>Deaths: 123<br>Recovered: 824<br>\", \"Guinea<br>Confirmed: 3933<br>Deaths: 23<br>Recovered: 2332<br>\", \"Guinea-Bissau<br>Confirmed: 1339<br>Deaths: 8<br>Recovered: 53<br>\", \"Guyana<br>Confirmed: 153<br>Deaths: 12<br>Recovered: 70<br>\", \"Haiti<br>Confirmed: 2507<br>Deaths: 48<br>Recovered: 24<br>\", \"Holy See<br>Confirmed: 12<br>Deaths: 0<br>Recovered: 2<br>\", \"Honduras<br>Confirmed: 5527<br>Deaths: 225<br>Recovered: 563<br>\", \"Hungary<br>Confirmed: 3931<br>Deaths: 534<br>Recovered: 2190<br>\", \"India<br>Confirmed: 216805<br>Deaths: 6088<br>Recovered: 104071<br>\", \"Indonesia<br>Confirmed: 28233<br>Deaths: 1698<br>Recovered: 8406<br>\", \"Iran<br>Confirmed: 160696<br>Deaths: 8012<br>Recovered: 125206<br>\", \"Iraq<br>Confirmed: 8168<br>Deaths: 256<br>Recovered: 4095<br>\", \"Israel<br>Confirmed: 17377<br>Deaths: 291<br>Recovered: 14983<br>\", \"Jamaica<br>Confirmed: 590<br>Deaths: 9<br>Recovered: 356<br>\", \"Jordan<br>Confirmed: 757<br>Deaths: 9<br>Recovered: 561<br>\", \"Kazakhstan<br>Confirmed: 11796<br>Deaths: 48<br>Recovered: 6240<br>\", \"Kenya<br>Confirmed: 2216<br>Deaths: 74<br>Recovered: 553<br>\", \"Korea, South<br>Confirmed: 11590<br>Deaths: 273<br>Recovered: 10467<br>\", \"Kosovo<br>Confirmed: 1142<br>Deaths: 30<br>Recovered: 871<br>\", \"Kuwait<br>Confirmed: 29359<br>Deaths: 230<br>Recovered: 15750<br>\", \"Kyrgyzstan<br>Confirmed: 1871<br>Deaths: 20<br>Recovered: 1265<br>\", \"Laos<br>Confirmed: 19<br>Deaths: 0<br>Recovered: 18<br>\", \"Latvia<br>Confirmed: 1079<br>Deaths: 24<br>Recovered: 760<br>\", \"Lebanon<br>Confirmed: 1256<br>Deaths: 27<br>Recovered: 724<br>\", \"Lesotho<br>Confirmed: 4<br>Deaths: 0<br>Recovered: 2<br>\", \"Liberia<br>Confirmed: 316<br>Deaths: 28<br>Recovered: 169<br>\", \"Libya<br>Confirmed: 182<br>Deaths: 5<br>Recovered: 52<br>\", \"Liechtenstein<br>Confirmed: 82<br>Deaths: 1<br>Recovered: 55<br>\", \"Lithuania<br>Confirmed: 1684<br>Deaths: 71<br>Recovered: 1260<br>\", \"Luxembourg<br>Confirmed: 4024<br>Deaths: 110<br>Recovered: 3861<br>\", \"MS Zaandam<br>Confirmed: 9<br>Deaths: 2<br>Recovered: 0<br>\", \"Madagascar<br>Confirmed: 908<br>Deaths: 6<br>Recovered: 195<br>\", \"Malawi<br>Confirmed: 369<br>Deaths: 4<br>Recovered: 51<br>\", \"Malaysia<br>Confirmed: 7970<br>Deaths: 115<br>Recovered: 6531<br>\", \"Maldives<br>Confirmed: 1850<br>Deaths: 7<br>Recovered: 644<br>\", \"Mali<br>Confirmed: 1386<br>Deaths: 79<br>Recovered: 788<br>\", \"Malta<br>Confirmed: 622<br>Deaths: 9<br>Recovered: 562<br>\", \"Mauritania<br>Confirmed: 745<br>Deaths: 34<br>Recovered: 57<br>\", \"Mauritius<br>Confirmed: 335<br>Deaths: 10<br>Recovered: 322<br>\", \"Moldova<br>Confirmed: 8795<br>Deaths: 310<br>Recovered: 4863<br>\", \"Monaco<br>Confirmed: 99<br>Deaths: 4<br>Recovered: 90<br>\", \"Mongolia<br>Confirmed: 185<br>Deaths: 0<br>Recovered: 44<br>\", \"Montenegro<br>Confirmed: 324<br>Deaths: 9<br>Recovered: 315<br>\", \"Morocco<br>Confirmed: 7922<br>Deaths: 206<br>Recovered: 6866<br>\", \"Mozambique<br>Confirmed: 316<br>Deaths: 2<br>Recovered: 109<br>\", \"Namibia<br>Confirmed: 25<br>Deaths: 0<br>Recovered: 16<br>\", \"Nepal<br>Confirmed: 2300<br>Deaths: 9<br>Recovered: 278<br>\", \"New Zealand<br>Confirmed: 1504<br>Deaths: 22<br>Recovered: 1481<br>\", \"Nicaragua<br>Confirmed: 1118<br>Deaths: 46<br>Recovered: 370<br>\", \"Niger<br>Confirmed: 961<br>Deaths: 65<br>Recovered: 857<br>\", \"Nigeria<br>Confirmed: 10819<br>Deaths: 314<br>Recovered: 3240<br>\", \"North Macedonia<br>Confirmed: 2492<br>Deaths: 145<br>Recovered: 1605<br>\", \"Oman<br>Confirmed: 13537<br>Deaths: 67<br>Recovered: 2845<br>\", \"Pakistan<br>Confirmed: 80463<br>Deaths: 1688<br>Recovered: 28923<br>\", \"Panama<br>Confirmed: 14095<br>Deaths: 352<br>Recovered: 9514<br>\", \"Papua New Guinea<br>Confirmed: 8<br>Deaths: 0<br>Recovered: 8<br>\", \"Paraguay<br>Confirmed: 1070<br>Deaths: 11<br>Recovered: 511<br>\", \"Philippines<br>Confirmed: 19748<br>Deaths: 974<br>Recovered: 4153<br>\", \"Poland<br>Confirmed: 24687<br>Deaths: 1115<br>Recovered: 12014<br>\", \"Portugal<br>Confirmed: 33261<br>Deaths: 1447<br>Recovered: 20079<br>\", \"Qatar<br>Confirmed: 62160<br>Deaths: 45<br>Recovered: 37542<br>\", \"Romania<br>Confirmed: 19669<br>Deaths: 1296<br>Recovered: 13800<br>\", \"Rwanda<br>Confirmed: 397<br>Deaths: 2<br>Recovered: 271<br>\", \"Saint Kitts and Nevis<br>Confirmed: 15<br>Deaths: 0<br>Recovered: 15<br>\", \"Saint Lucia<br>Confirmed: 18<br>Deaths: 0<br>Recovered: 18<br>\", \"Saint Vincent and the Grenadines<br>Confirmed: 26<br>Deaths: 0<br>Recovered: 15<br>\", \"San Marino<br>Confirmed: 674<br>Deaths: 42<br>Recovered: 391<br>\", \"Sao Tome and Principe<br>Confirmed: 484<br>Deaths: 12<br>Recovered: 68<br>\", \"Saudi Arabia<br>Confirmed: 91182<br>Deaths: 579<br>Recovered: 68159<br>\", \"Senegal<br>Confirmed: 3932<br>Deaths: 45<br>Recovered: 2063<br>\", \"Serbia<br>Confirmed: 11523<br>Deaths: 245<br>Recovered: 6852<br>\", \"Seychelles<br>Confirmed: 11<br>Deaths: 0<br>Recovered: 11<br>\", \"Sierra Leone<br>Confirmed: 909<br>Deaths: 47<br>Recovered: 491<br>\", \"Singapore<br>Confirmed: 36405<br>Deaths: 24<br>Recovered: 23582<br>\", \"Slovakia<br>Confirmed: 1525<br>Deaths: 28<br>Recovered: 1375<br>\", \"Slovenia<br>Confirmed: 1477<br>Deaths: 109<br>Recovered: 1358<br>\", \"Somalia<br>Confirmed: 2146<br>Deaths: 79<br>Recovered: 406<br>\", \"South Africa<br>Confirmed: 37525<br>Deaths: 792<br>Recovered: 19682<br>\", \"South Sudan<br>Confirmed: 994<br>Deaths: 10<br>Recovered: 6<br>\", \"Sri Lanka<br>Confirmed: 1735<br>Deaths: 11<br>Recovered: 836<br>\", \"Sudan<br>Confirmed: 5499<br>Deaths: 314<br>Recovered: 1711<br>\", \"Suriname<br>Confirmed: 55<br>Deaths: 1<br>Recovered: 9<br>\", \"Syria<br>Confirmed: 123<br>Deaths: 6<br>Recovered: 53<br>\", \"Taiwan*<br>Confirmed: 443<br>Deaths: 7<br>Recovered: 428<br>\", \"Tajikistan<br>Confirmed: 4191<br>Deaths: 48<br>Recovered: 2347<br>\", \"Tanzania<br>Confirmed: 509<br>Deaths: 21<br>Recovered: 183<br>\", \"Thailand<br>Confirmed: 3084<br>Deaths: 58<br>Recovered: 2968<br>\", \"Timor-Leste<br>Confirmed: 24<br>Deaths: 0<br>Recovered: 24<br>\", \"Togo<br>Confirmed: 452<br>Deaths: 13<br>Recovered: 236<br>\", \"Trinidad and Tobago<br>Confirmed: 117<br>Deaths: 8<br>Recovered: 108<br>\", \"Tunisia<br>Confirmed: 1087<br>Deaths: 49<br>Recovered: 965<br>\", \"Turkey<br>Confirmed: 166422<br>Deaths: 4609<br>Recovered: 130852<br>\", \"Uganda<br>Confirmed: 507<br>Deaths: 0<br>Recovered: 82<br>\", \"United Arab Emirates<br>Confirmed: 36359<br>Deaths: 270<br>Recovered: 19153<br>\", \"Uruguay<br>Confirmed: 826<br>Deaths: 23<br>Recovered: 691<br>\", \"Uzbekistan<br>Confirmed: 3843<br>Deaths: 16<br>Recovered: 3014<br>\", \"Venezuela<br>Confirmed: 1819<br>Deaths: 18<br>Recovered: 334<br>\", \"Vietnam<br>Confirmed: 328<br>Deaths: 0<br>Recovered: 302<br>\", \"West Bank and Gaza<br>Confirmed: 457<br>Deaths: 3<br>Recovered: 372<br>\", \"Western Sahara<br>Confirmed: 9<br>Deaths: 1<br>Recovered: 6<br>\", \"Yemen<br>Confirmed: 419<br>Deaths: 95<br>Recovered: 17<br>\", \"Zambia<br>Confirmed: 1089<br>Deaths: 7<br>Recovered: 912<br>\", \"Zimbabwe<br>Confirmed: 206<br>Deaths: 4<br>Recovered: 29<br>\"], \"lat\": [-25.0, 47.5162, 60.001, 30.5928, 56.2639, 61.9241, 46.2276, 51.165691, 64.9631, 53.1424, 41.8719, 52.3167, 60.472, 61.524, 60.1282, 46.8182, 55.0, 40.0, 40.463667, 23.6345, -35.6751, -14.235, -9.19, 4.5709, 36.204824, 48.3794, 33.93911, 41.1533, 28.0339, 42.5063, -11.2027, 17.0608, -38.4161, 40.0691, 40.1431, 25.025885, 26.0275, 23.685, 13.1939, 53.7098, 50.8333, 17.1899, 9.3077, 27.5142, -16.2902, 43.9159, -22.3285, 4.5353, 42.7339, 12.2383, 21.9162, -3.3731, 16.5388, 11.55, 3.848, 6.6111, 15.4542, -11.6455, -0.228, -4.0383, 9.7489, 7.54, 45.1, 21.521757, 35.1264, 49.8175, null, 11.8251, 15.415, 18.7357, -1.8312, 26.820553, 13.7942, 1.6508, 15.1794, 58.5953, -26.5225, 9.145, -17.7134, -0.8037, 13.4432, 42.3154, 7.9465, 39.0742, 12.1165, 15.7835, 9.9456, 11.8037, 4.860416, 18.9712, 41.9029, 15.2, 47.1625, 20.593684, -0.7893, 32.427908, 33.223191, 31.046051, 18.1096, 31.24, 48.0196, -0.0236, 35.907757, 42.602636, 29.31166, 41.20438, 19.85627, 56.8796, 33.8547, -29.609988, 6.428055, 26.3351, 47.14, 55.1694, 49.8153, null, -18.766947, -13.254308, 4.210484, 3.2028, 17.570692, 35.9375, 21.0079, -20.348404, 47.4116, 43.7333, 46.8625, 42.708678, 31.7917, -18.665695, -22.9576, 28.1667, -40.9006, 12.865416, 17.607789, 9.082, 41.6086, 21.512583, 30.3753, 8.538, -6.314993, -23.4425, 12.879721, 51.9194, 39.3999, 25.3548, 45.9432, -1.9403, 17.357822, 13.9094, 12.9843, 43.9424, 0.18636, 23.885942, 14.4974, 44.0165, -4.6796, 8.460555, 1.2833, 48.669, 46.1512, 5.152149, -30.5595, 6.877, 7.873054, 12.8628, 3.9193, 34.802075, 23.7, 38.861034, -6.369028, 15.870032, -8.874217, 8.6195, 10.6918, 33.886917, 38.9637, 1.373333, 23.424076, -32.5228, 41.377491, 6.4238, 14.058324, 31.9522, 24.2155, 15.552727, -13.133897, -19.015438], \"locationmode\": \"country names\", \"lon\": [133.0, 14.5501, -95.001, 114.3055, 9.5018, 25.7482, 2.2137, 10.451526, -19.0208, -7.6921, 12.5674, 5.55, 8.4689, 105.3188, 18.6435, 8.2275, -3.0, -100.0, -3.74922, -102.5528, -71.543, -51.9253, -75.0152, -74.2973, 138.252924, 31.1656, 67.709953, 20.1683, 1.6596, 1.5218, 17.8739, -61.7964, -63.6167, 45.0382, 47.5769, -78.035889, 50.55, 90.3563, -59.5432, 27.9534, 4.469936, -88.4976, 2.3158, 90.4336, -63.5887, 17.6791, 24.6849, 114.7277, 25.4858, -1.5616, 95.956, 29.9189, -23.0418, 104.9167, 11.5021, 20.9394, 18.7322, 43.3333, 15.8277, 21.7587, -83.7534, -5.5471, 15.2, -77.781167, 33.4299, 15.473, null, 42.5903, -61.371, -70.1627, -78.1834, 30.802498, -88.8965, 10.2679, 39.7823, 25.0136, 31.4659, 40.4897, 178.065, 11.6094, -15.3101, 43.3569, -1.0232, 21.8243, -61.679, -90.2308, -9.6966, -15.1804, -58.93018, -72.2852, 12.4534, -86.2419, 19.5033, 78.96288, 113.9213, 53.688046, 43.679291, 34.851612, -77.2975, 36.51, 66.9237, 37.9062, 127.766922, 20.902977, 47.481766, 74.766098, 102.495496, 24.6032, 35.8623, 28.233608, -9.429499, 17.228331, 9.55, 23.8813, 6.1296, null, 46.869107, 34.301525, 101.975766, 73.2207, -3.996166, 14.3754, -10.9408, 57.552152, 28.3699, 7.4167, 103.8467, 19.37439, -7.0926, 35.529562, 18.4904, 84.25, 174.886, -85.207229, 8.081666, 8.6753, 21.7453, 55.923255, 69.3451, -80.7821, 143.95555, -58.4438, 121.774017, 19.1451, -8.2245, 51.1839, 24.9668, 29.8739, -62.782998, -60.9789, -61.2872, 12.4578, 6.613081, 45.079162, -14.4524, 21.0059, 55.492, -11.779889, 103.8333, 19.699, 14.9955, 46.199616, 22.9375, 31.307, 80.771797, 30.2176, -56.0278, 38.996815, 121.0, 71.276093, 34.888822, 100.992541, 125.727539, 0.8248, -61.2225, 9.537499, 35.2433, 32.290275, 53.847818, -55.7658, 64.585262, -66.5897, 108.277199, 35.2332, -12.8858, 48.516388, 27.849332, 29.154857], \"marker\": {\"autocolorscale\": true, \"cmax\": 1847412, \"cmin\": 0, \"color\": [7229, 16771, 94600, 84159, 11971, 6911, 114400, 184121, 1806, 25111, 233836, 46938, 8467, 431715, 40803, 30893, 281265, 1847412, 240326, 97326, 113628, 555383, 178914, 31935, 16867, 25385, 17267, 1184, 9733, 851, 86, 26, 18319, 10524, 6260, 102, 12815, 55140, 92, 45116, 58685, 18, 244, 47, 10991, 2551, 40, 141, 2560, 884, 233, 63, 477, 125, 6585, 1173, 820, 132, 611, 3495, 1157, 3110, 2246, 2107, 958, 9414, 712, 3935, 18, 18040, 40414, 28615, 2705, 1306, 39, 1880, 295, 1486, 18, 2902, 26, 800, 8548, 2937, 23, 5586, 3933, 1339, 153, 2507, 12, 5527, 3931, 216805, 28233, 160696, 8168, 17377, 590, 757, 11796, 2216, 11590, 1142, 29359, 1871, 19, 1079, 1256, 4, 316, 182, 82, 1684, 4024, 9, 908, 369, 7970, 1850, 1386, 622, 745, 335, 8795, 99, 185, 324, 7922, 316, 25, 2300, 1504, 1118, 961, 10819, 2492, 13537, 80463, 14095, 8, 1070, 19748, 24687, 33261, 62160, 19669, 397, 15, 18, 26, 674, 484, 91182, 3932, 11523, 11, 909, 36405, 1525, 1477, 2146, 37525, 994, 1735, 5499, 55, 123, 443, 4191, 509, 3084, 24, 452, 117, 1087, 166422, 507, 36359, 826, 3843, 1819, 328, 457, 9, 419, 1089, 206], \"line\": {\"color\": \"white\", \"width\": 1}, \"opacity\": 0.5, \"reversescale\": true, \"size\": 10, \"symbol\": \"circle\"}, \"showlegend\": false, \"type\": \"scattergeo\"}, {\"domain\": {\"x\": [0.5166666666666667, 0.6555555555555557], \"y\": [0.80625, 1.0]}, \"mode\": \"number\", \"title\": {\"text\": \"Confirmed Cases\"}, \"type\": \"indicator\", \"value\": 6390085}, {\"domain\": {\"x\": [0.6888888888888889, 0.8277777777777777], \"y\": [0.80625, 1.0]}, \"mode\": \"number\", \"title\": {\"text\": \"Recovered Cases\"}, \"type\": \"indicator\", \"value\": 2771084}, {\"domain\": {\"x\": [0.861111111111111, 1.0], \"y\": [0.80625, 1.0]}, \"mode\": \"number\", \"title\": {\"text\": \"Deaths\"}, \"type\": \"indicator\", \"value\": 383226}, {\"marker\": {\"color\": \"#001a66\"}, \"name\": \"Confirmed Cases\", \"showlegend\": false, \"type\": \"bar\", \"x\": [\"US\", \"Brazil\", \"Russia\", \"United Kingdom\", \"Spain\", \"Italy\", \"India\", \"Germany\", \"Peru\", \"Turkey\"], \"xaxis\": \"x\", \"y\": [1847412, 555383, 431715, 281265, 240326, 233836, 216805, 184121, 178914, 166422], \"yaxis\": \"y\"}, {\"marker\": {\"color\": \"#004d99\"}, \"name\": \"Recovered Cases\", \"showlegend\": false, \"type\": \"bar\", \"x\": [\"US\", \"Brazil\", \"Russia\", \"Germany\", \"Italy\", \"Spain\", \"Turkey\", \"Iran\", \"India\", \"China\"], \"xaxis\": \"x2\", \"y\": [463868, 223638, 195559, 167453, 160938, 150376, 130852, 125206, 104071, 79400], \"yaxis\": \"y2\"}, {\"marker\": {\"color\": \"#809fff\"}, \"name\": \"Deaths\", \"showlegend\": false, \"type\": \"bar\", \"x\": [\"US\", \"United Kingdom\", \"Italy\", \"Brazil\", \"France\", \"Spain\", \"Mexico\", \"Belgium\", \"Germany\", \"Iran\"], \"xaxis\": \"x3\", \"y\": [107023, 39811, 33601, 31199, 29024, 27128, 10637, 9522, 8602, 8012], \"yaxis\": \"y3\"}],\n",
              "                        {\"geo\": {\"domain\": {\"x\": [0.0, 0.48333333333333334], \"y\": [0.0, 1.0]}}, \"legend\": {\"orientation\": \"h\", \"x\": 0.65, \"y\": 0.8}, \"showlegend\": false, \"template\": {\"data\": {\"bar\": [{\"error_x\": {\"color\": \"#2a3f5f\"}, \"error_y\": {\"color\": \"#2a3f5f\"}, \"marker\": {\"line\": {\"color\": \"white\", \"width\": 0.5}}, \"type\": \"bar\"}], \"barpolar\": [{\"marker\": {\"line\": {\"color\": \"white\", \"width\": 0.5}}, \"type\": \"barpolar\"}], \"carpet\": [{\"aaxis\": {\"endlinecolor\": \"#2a3f5f\", \"gridcolor\": \"#C8D4E3\", \"linecolor\": \"#C8D4E3\", \"minorgridcolor\": \"#C8D4E3\", \"startlinecolor\": \"#2a3f5f\"}, \"baxis\": {\"endlinecolor\": \"#2a3f5f\", \"gridcolor\": \"#C8D4E3\", \"linecolor\": \"#C8D4E3\", \"minorgridcolor\": \"#C8D4E3\", \"startlinecolor\": \"#2a3f5f\"}, \"type\": \"carpet\"}], \"choropleth\": [{\"colorbar\": {\"outlinewidth\": 0, \"ticks\": \"\"}, \"type\": \"choropleth\"}], \"contour\": [{\"colorbar\": {\"outlinewidth\": 0, \"ticks\": \"\"}, \"colorscale\": [[0.0, \"#0d0887\"], [0.1111111111111111, \"#46039f\"], [0.2222222222222222, \"#7201a8\"], [0.3333333333333333, \"#9c179e\"], [0.4444444444444444, \"#bd3786\"], [0.5555555555555556, \"#d8576b\"], [0.6666666666666666, \"#ed7953\"], [0.7777777777777778, \"#fb9f3a\"], [0.8888888888888888, \"#fdca26\"], [1.0, \"#f0f921\"]], \"type\": \"contour\"}], \"contourcarpet\": [{\"colorbar\": {\"outlinewidth\": 0, \"ticks\": \"\"}, \"type\": \"contourcarpet\"}], \"heatmap\": [{\"colorbar\": {\"outlinewidth\": 0, \"ticks\": \"\"}, \"colorscale\": [[0.0, \"#0d0887\"], [0.1111111111111111, \"#46039f\"], [0.2222222222222222, \"#7201a8\"], [0.3333333333333333, \"#9c179e\"], [0.4444444444444444, \"#bd3786\"], [0.5555555555555556, \"#d8576b\"], [0.6666666666666666, \"#ed7953\"], [0.7777777777777778, \"#fb9f3a\"], [0.8888888888888888, \"#fdca26\"], [1.0, \"#f0f921\"]], \"type\": \"heatmap\"}], \"heatmapgl\": [{\"colorbar\": {\"outlinewidth\": 0, \"ticks\": \"\"}, \"colorscale\": [[0.0, \"#0d0887\"], [0.1111111111111111, \"#46039f\"], [0.2222222222222222, \"#7201a8\"], [0.3333333333333333, \"#9c179e\"], [0.4444444444444444, \"#bd3786\"], [0.5555555555555556, \"#d8576b\"], [0.6666666666666666, \"#ed7953\"], [0.7777777777777778, \"#fb9f3a\"], [0.8888888888888888, \"#fdca26\"], [1.0, \"#f0f921\"]], \"type\": \"heatmapgl\"}], \"histogram\": [{\"marker\": {\"colorbar\": {\"outlinewidth\": 0, \"ticks\": \"\"}}, \"type\": \"histogram\"}], \"histogram2d\": [{\"colorbar\": {\"outlinewidth\": 0, \"ticks\": \"\"}, \"colorscale\": [[0.0, \"#0d0887\"], [0.1111111111111111, \"#46039f\"], [0.2222222222222222, \"#7201a8\"], [0.3333333333333333, \"#9c179e\"], [0.4444444444444444, \"#bd3786\"], [0.5555555555555556, \"#d8576b\"], [0.6666666666666666, \"#ed7953\"], [0.7777777777777778, \"#fb9f3a\"], [0.8888888888888888, \"#fdca26\"], [1.0, \"#f0f921\"]], \"type\": \"histogram2d\"}], \"histogram2dcontour\": [{\"colorbar\": {\"outlinewidth\": 0, \"ticks\": \"\"}, \"colorscale\": [[0.0, \"#0d0887\"], [0.1111111111111111, \"#46039f\"], [0.2222222222222222, \"#7201a8\"], [0.3333333333333333, \"#9c179e\"], [0.4444444444444444, \"#bd3786\"], [0.5555555555555556, \"#d8576b\"], [0.6666666666666666, \"#ed7953\"], [0.7777777777777778, \"#fb9f3a\"], [0.8888888888888888, \"#fdca26\"], [1.0, \"#f0f921\"]], \"type\": \"histogram2dcontour\"}], \"mesh3d\": [{\"colorbar\": {\"outlinewidth\": 0, \"ticks\": \"\"}, \"type\": \"mesh3d\"}], \"parcoords\": [{\"line\": {\"colorbar\": {\"outlinewidth\": 0, \"ticks\": \"\"}}, \"type\": \"parcoords\"}], \"pie\": [{\"automargin\": true, \"type\": \"pie\"}], \"scatter\": [{\"marker\": {\"colorbar\": {\"outlinewidth\": 0, \"ticks\": \"\"}}, \"type\": \"scatter\"}], \"scatter3d\": [{\"line\": {\"colorbar\": {\"outlinewidth\": 0, \"ticks\": \"\"}}, \"marker\": {\"colorbar\": {\"outlinewidth\": 0, \"ticks\": \"\"}}, \"type\": \"scatter3d\"}], \"scattercarpet\": [{\"marker\": {\"colorbar\": {\"outlinewidth\": 0, \"ticks\": \"\"}}, \"type\": \"scattercarpet\"}], \"scattergeo\": [{\"marker\": {\"colorbar\": {\"outlinewidth\": 0, \"ticks\": \"\"}}, \"type\": \"scattergeo\"}], \"scattergl\": [{\"marker\": {\"colorbar\": {\"outlinewidth\": 0, \"ticks\": \"\"}}, \"type\": \"scattergl\"}], \"scattermapbox\": [{\"marker\": {\"colorbar\": {\"outlinewidth\": 0, \"ticks\": \"\"}}, \"type\": \"scattermapbox\"}], \"scatterpolar\": [{\"marker\": {\"colorbar\": {\"outlinewidth\": 0, \"ticks\": \"\"}}, \"type\": \"scatterpolar\"}], \"scatterpolargl\": [{\"marker\": {\"colorbar\": {\"outlinewidth\": 0, \"ticks\": \"\"}}, \"type\": \"scatterpolargl\"}], \"scatterternary\": [{\"marker\": {\"colorbar\": {\"outlinewidth\": 0, \"ticks\": \"\"}}, \"type\": \"scatterternary\"}], \"surface\": [{\"colorbar\": {\"outlinewidth\": 0, \"ticks\": \"\"}, \"colorscale\": [[0.0, \"#0d0887\"], [0.1111111111111111, \"#46039f\"], [0.2222222222222222, \"#7201a8\"], [0.3333333333333333, \"#9c179e\"], [0.4444444444444444, \"#bd3786\"], [0.5555555555555556, \"#d8576b\"], [0.6666666666666666, \"#ed7953\"], [0.7777777777777778, \"#fb9f3a\"], [0.8888888888888888, \"#fdca26\"], [1.0, \"#f0f921\"]], \"type\": \"surface\"}], \"table\": [{\"cells\": {\"fill\": {\"color\": \"#EBF0F8\"}, \"line\": {\"color\": \"white\"}}, \"header\": {\"fill\": {\"color\": \"#C8D4E3\"}, \"line\": {\"color\": \"white\"}}, \"type\": \"table\"}]}, \"layout\": {\"annotationdefaults\": {\"arrowcolor\": \"#2a3f5f\", \"arrowhead\": 0, \"arrowwidth\": 1}, \"coloraxis\": {\"colorbar\": {\"outlinewidth\": 0, \"ticks\": \"\"}}, \"colorscale\": {\"diverging\": [[0, \"#8e0152\"], [0.1, \"#c51b7d\"], [0.2, \"#de77ae\"], [0.3, \"#f1b6da\"], [0.4, \"#fde0ef\"], [0.5, \"#f7f7f7\"], [0.6, \"#e6f5d0\"], [0.7, \"#b8e186\"], [0.8, \"#7fbc41\"], [0.9, \"#4d9221\"], [1, \"#276419\"]], \"sequential\": [[0.0, \"#0d0887\"], [0.1111111111111111, \"#46039f\"], [0.2222222222222222, \"#7201a8\"], [0.3333333333333333, \"#9c179e\"], [0.4444444444444444, \"#bd3786\"], [0.5555555555555556, \"#d8576b\"], [0.6666666666666666, \"#ed7953\"], [0.7777777777777778, \"#fb9f3a\"], [0.8888888888888888, \"#fdca26\"], [1.0, \"#f0f921\"]], \"sequentialminus\": [[0.0, \"#0d0887\"], [0.1111111111111111, \"#46039f\"], [0.2222222222222222, \"#7201a8\"], [0.3333333333333333, \"#9c179e\"], [0.4444444444444444, \"#bd3786\"], [0.5555555555555556, \"#d8576b\"], [0.6666666666666666, \"#ed7953\"], [0.7777777777777778, \"#fb9f3a\"], [0.8888888888888888, \"#fdca26\"], [1.0, \"#f0f921\"]]}, \"colorway\": [\"#636efa\", \"#EF553B\", \"#00cc96\", \"#ab63fa\", \"#FFA15A\", \"#19d3f3\", \"#FF6692\", \"#B6E880\", \"#FF97FF\", \"#FECB52\"], \"font\": {\"color\": \"#2a3f5f\"}, \"geo\": {\"bgcolor\": \"white\", \"lakecolor\": \"white\", \"landcolor\": \"white\", \"showlakes\": true, \"showland\": true, \"subunitcolor\": \"#C8D4E3\"}, \"hoverlabel\": {\"align\": \"left\"}, \"hovermode\": \"closest\", \"mapbox\": {\"style\": \"light\"}, \"paper_bgcolor\": \"white\", \"plot_bgcolor\": \"white\", \"polar\": {\"angularaxis\": {\"gridcolor\": \"#EBF0F8\", \"linecolor\": \"#EBF0F8\", \"ticks\": \"\"}, \"bgcolor\": \"white\", \"radialaxis\": {\"gridcolor\": \"#EBF0F8\", \"linecolor\": \"#EBF0F8\", \"ticks\": \"\"}}, \"scene\": {\"xaxis\": {\"backgroundcolor\": \"white\", \"gridcolor\": \"#DFE8F3\", \"gridwidth\": 2, \"linecolor\": \"#EBF0F8\", \"showbackground\": true, \"ticks\": \"\", \"zerolinecolor\": \"#EBF0F8\"}, \"yaxis\": {\"backgroundcolor\": \"white\", \"gridcolor\": \"#DFE8F3\", \"gridwidth\": 2, \"linecolor\": \"#EBF0F8\", \"showbackground\": true, \"ticks\": \"\", \"zerolinecolor\": \"#EBF0F8\"}, \"zaxis\": {\"backgroundcolor\": \"white\", \"gridcolor\": \"#DFE8F3\", \"gridwidth\": 2, \"linecolor\": \"#EBF0F8\", \"showbackground\": true, \"ticks\": \"\", \"zerolinecolor\": \"#EBF0F8\"}}, \"shapedefaults\": {\"line\": {\"color\": \"#2a3f5f\"}}, \"ternary\": {\"aaxis\": {\"gridcolor\": \"#DFE8F3\", \"linecolor\": \"#A2B1C6\", \"ticks\": \"\"}, \"baxis\": {\"gridcolor\": \"#DFE8F3\", \"linecolor\": \"#A2B1C6\", \"ticks\": \"\"}, \"bgcolor\": \"white\", \"caxis\": {\"gridcolor\": \"#DFE8F3\", \"linecolor\": \"#A2B1C6\", \"ticks\": \"\"}}, \"title\": {\"x\": 0.05}, \"xaxis\": {\"automargin\": true, \"gridcolor\": \"#EBF0F8\", \"linecolor\": \"#EBF0F8\", \"ticks\": \"\", \"title\": {\"standoff\": 15}, \"zerolinecolor\": \"#EBF0F8\", \"zerolinewidth\": 2}, \"yaxis\": {\"automargin\": true, \"gridcolor\": \"#EBF0F8\", \"linecolor\": \"#EBF0F8\", \"ticks\": \"\", \"title\": {\"standoff\": 15}, \"zerolinecolor\": \"#EBF0F8\", \"zerolinewidth\": 2}}}, \"title\": {\"text\": \"Global COVID-19 Cases\"}, \"xaxis\": {\"anchor\": \"y\", \"domain\": [0.5166666666666667, 1.0]}, \"xaxis2\": {\"anchor\": \"y2\", \"domain\": [0.5166666666666667, 1.0]}, \"xaxis3\": {\"anchor\": \"y3\", \"domain\": [0.5166666666666667, 1.0]}, \"yaxis\": {\"anchor\": \"x\", \"domain\": [0.5375, 0.73125]}, \"yaxis2\": {\"anchor\": \"x2\", \"domain\": [0.26875, 0.4625]}, \"yaxis3\": {\"anchor\": \"x3\", \"domain\": [0.0, 0.19375]}},\n",
              "                        {\"responsive\": true}\n",
              "                    ).then(function(){\n",
              "                            \n",
              "var gd = document.getElementById('2fad9e78-65ae-4764-851e-c10cb48bdbdc');\n",
              "var x = new MutationObserver(function (mutations, observer) {{\n",
              "        var display = window.getComputedStyle(gd).display;\n",
              "        if (!display || display === 'none') {{\n",
              "            console.log([gd, 'removed!']);\n",
              "            Plotly.purge(gd);\n",
              "            observer.disconnect();\n",
              "        }}\n",
              "}});\n",
              "\n",
              "// Listen for the removal of the full notebook cells\n",
              "var notebookContainer = gd.closest('#notebook-container');\n",
              "if (notebookContainer) {{\n",
              "    x.observe(notebookContainer, {childList: true});\n",
              "}}\n",
              "\n",
              "// Listen for the clearing of the current output cell\n",
              "var outputEl = gd.closest('.output');\n",
              "if (outputEl) {{\n",
              "    x.observe(outputEl, {childList: true});\n",
              "}}\n",
              "\n",
              "                        })\n",
              "                };\n",
              "                \n",
              "            </script>\n",
              "        </div>\n",
              "</body>\n",
              "</html>"
            ]
          },
          "metadata": {
            "tags": []
          }
        }
      ]
    }
  ]
}