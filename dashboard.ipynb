{
  "nbformat": 4,
  "nbformat_minor": 0,
  "metadata": {
    "colab": {
      "name": "Final Covid 19 Dashboard.ipynb",
      "provenance": [],
      "authorship_tag": "ABX9TyOQY5daKUXkxU5DjkmYei+Y",
      "include_colab_link": true
    },
    "kernelspec": {
      "name": "python3",
      "display_name": "Python 3"
    }
  },
  "cells": [
    {
      "cell_type": "markdown",
      "metadata": {
        "id": "view-in-github",
        "colab_type": "text"
      },
      "source": [
        "<a href=\"https://colab.research.google.com/github/arushikhokhar/Covid-19-visual-dashboard/blob/master/dashboard.ipynb\" target=\"_parent\"><img src=\"https://colab.research.google.com/assets/colab-badge.svg\" alt=\"Open In Colab\"/></a>"
      ]
    },
    {
      "cell_type": "code",
      "metadata": {
        "id": "6TbFAVaIMNrG",
        "colab_type": "code",
        "colab": {}
      },
      "source": [
        ""
      ],
      "execution_count": 0,
      "outputs": []
    },
    {
      "cell_type": "code",
      "metadata": {
        "id": "9GrBj1rw9KJB",
        "colab_type": "code",
        "colab": {}
      },
      "source": [
        "import requests\n",
        "import pandas as pd"
      ],
      "execution_count": 0,
      "outputs": []
    },
    {
      "cell_type": "code",
      "metadata": {
        "id": "RMgM2EkZ6CAc",
        "colab_type": "code",
        "colab": {}
      },
      "source": [
        "raw= requests.get(\"https://services1.arcgis.com/0MSEUqKaxRlEPj5g/arcgis/rest/services/ncov_cases2_v1/FeatureServer/2/query?where=1%3D1&outFields=*&outSR=4326&f=json\")\n",
        "raw_json = raw.json()\n",
        "d = pd.DataFrame(raw_json[\"features\"])"
      ],
      "execution_count": 0,
      "outputs": []
    },
    {
      "cell_type": "code",
      "metadata": {
        "id": "VTy4J2t-6Gjt",
        "colab_type": "code",
        "outputId": "3d2ad658-ab6e-4c93-ef17-2cec3f0aeb6f",
        "colab": {
          "base_uri": "https://localhost:8080/",
          "height": 204
        }
      },
      "source": [
        "data_list = d[\"attributes\"].tolist()\n",
        "df = pd.DataFrame(data_list)\n",
        "df.set_index(\"OBJECTID\")\n",
        "df = df[[\"Country_Region\", \"Lat\", \"Long_\", \"Confirmed\", \"Deaths\", \"Recovered\"]]\n",
        "df.head()"
      ],
      "execution_count": 3,
      "outputs": [
        {
          "output_type": "execute_result",
          "data": {
            "text/html": [
              "<div>\n",
              "<style scoped>\n",
              "    .dataframe tbody tr th:only-of-type {\n",
              "        vertical-align: middle;\n",
              "    }\n",
              "\n",
              "    .dataframe tbody tr th {\n",
              "        vertical-align: top;\n",
              "    }\n",
              "\n",
              "    .dataframe thead th {\n",
              "        text-align: right;\n",
              "    }\n",
              "</style>\n",
              "<table border=\"1\" class=\"dataframe\">\n",
              "  <thead>\n",
              "    <tr style=\"text-align: right;\">\n",
              "      <th></th>\n",
              "      <th>Country_Region</th>\n",
              "      <th>Lat</th>\n",
              "      <th>Long_</th>\n",
              "      <th>Confirmed</th>\n",
              "      <th>Deaths</th>\n",
              "      <th>Recovered</th>\n",
              "    </tr>\n",
              "  </thead>\n",
              "  <tbody>\n",
              "    <tr>\n",
              "      <th>0</th>\n",
              "      <td>Australia</td>\n",
              "      <td>-25.0000</td>\n",
              "      <td>133.0000</td>\n",
              "      <td>7251</td>\n",
              "      <td>102</td>\n",
              "      <td>6683</td>\n",
              "    </tr>\n",
              "    <tr>\n",
              "      <th>1</th>\n",
              "      <td>Austria</td>\n",
              "      <td>47.5162</td>\n",
              "      <td>14.5501</td>\n",
              "      <td>16843</td>\n",
              "      <td>672</td>\n",
              "      <td>15742</td>\n",
              "    </tr>\n",
              "    <tr>\n",
              "      <th>2</th>\n",
              "      <td>Canada</td>\n",
              "      <td>60.0010</td>\n",
              "      <td>-95.0010</td>\n",
              "      <td>95269</td>\n",
              "      <td>7717</td>\n",
              "      <td>52184</td>\n",
              "    </tr>\n",
              "    <tr>\n",
              "      <th>3</th>\n",
              "      <td>China</td>\n",
              "      <td>30.5928</td>\n",
              "      <td>114.3055</td>\n",
              "      <td>84171</td>\n",
              "      <td>4638</td>\n",
              "      <td>79416</td>\n",
              "    </tr>\n",
              "    <tr>\n",
              "      <th>4</th>\n",
              "      <td>Denmark</td>\n",
              "      <td>56.2639</td>\n",
              "      <td>9.5018</td>\n",
              "      <td>12011</td>\n",
              "      <td>582</td>\n",
              "      <td>10820</td>\n",
              "    </tr>\n",
              "  </tbody>\n",
              "</table>\n",
              "</div>"
            ],
            "text/plain": [
              "  Country_Region      Lat     Long_  Confirmed  Deaths  Recovered\n",
              "0      Australia -25.0000  133.0000       7251     102       6683\n",
              "1        Austria  47.5162   14.5501      16843     672      15742\n",
              "2         Canada  60.0010  -95.0010      95269    7717      52184\n",
              "3          China  30.5928  114.3055      84171    4638      79416\n",
              "4        Denmark  56.2639    9.5018      12011     582      10820"
            ]
          },
          "metadata": {
            "tags": []
          },
          "execution_count": 3
        }
      ]
    },
    {
      "cell_type": "code",
      "metadata": {
        "id": "Y4mJRtre6Ia4",
        "colab_type": "code",
        "colab": {}
      },
      "source": [
        "message = df[\"Country_Region\"] + \"<br>\"\n",
        "message += \"Confirmed: \" + df[\"Confirmed\"].astype(str) + \"<br>\"\n",
        "message += \"Deaths: \" + df[\"Deaths\"].astype(str) + \"<br>\"\n",
        "message += \"Recovered: \" + df[\"Recovered\"].astype(str) + \"<br>\"\n",
        "df[\"text\"] = message"
      ],
      "execution_count": 0,
      "outputs": []
    },
    {
      "cell_type": "code",
      "metadata": {
        "id": "EoOb8PqM6NVX",
        "colab_type": "code",
        "colab": {}
      },
      "source": [
        "import plotly.graph_objects as go\n",
        "import plotly.express as px\n",
        "from plotly.subplots import make_subplots"
      ],
      "execution_count": 0,
      "outputs": []
    },
    {
      "cell_type": "code",
      "metadata": {
        "id": "6QSvW0Qa6k0D",
        "colab_type": "code",
        "colab": {}
      },
      "source": [
        "message = df[\"Country_Region\"] + \"<br>\"\n",
        "message += \"Confirmed: \" + df[\"Confirmed\"].astype(str) + \"<br>\"\n",
        "message += \"Deaths: \" + df[\"Deaths\"].astype(str) + \"<br>\"\n",
        "message += \"Recovered: \" + df[\"Recovered\"].astype(str) + \"<br>\"\n",
        "df[\"text\"] = message"
      ],
      "execution_count": 0,
      "outputs": []
    },
    {
      "cell_type": "code",
      "metadata": {
        "id": "SXiiItJw6mEU",
        "colab_type": "code",
        "colab": {}
      },
      "source": [
        "fig = make_subplots(\n",
        "    rows = 4, cols = 6,\n",
        "\n",
        "    specs=[\n",
        "            [{\"type\": \"scattergeo\", \"rowspan\": 4, \"colspan\": 3}, None, None, {\"type\": \"indicator\"}, {\"type\": \"indicator\"}, {\"type\": \"indicator\"} ],\n",
        "            [    None, None, None,               {\"type\": \"bar\", \"colspan\":3}, None, None],\n",
        "            [    None, None, None,              {\"type\": \"bar\", \"colspan\":3}, None, None],\n",
        "            [    None, None, None,               {\"type\": \"bar\", \"colspan\":3}, None, None],\n",
        "          ]\n",
        ")"
      ],
      "execution_count": 0,
      "outputs": []
    },
    {
      "cell_type": "code",
      "metadata": {
        "id": "oHt9jJQ58Tbt",
        "colab_type": "code",
        "colab": {}
      },
      "source": [
        "df_top10 = df.nlargest(10, \"Confirmed\")\n",
        "top10_countries_1 = df_top10[\"Country_Region\"].tolist()\n",
        "top10_confirmed = df_top10[\"Confirmed\"].tolist()\n",
        "\n",
        "df_top20 = df.nlargest(10, \"Recovered\")\n",
        "top10_countries_2 = df_top20[\"Country_Region\"].tolist()\n",
        "top10_recovered = df_top20[\"Recovered\"].tolist()\n",
        "\n",
        "df_top30 = df.nlargest(10, \"Deaths\")\n",
        "top10_countries_3 = df_top30[\"Country_Region\"].tolist()\n",
        "top10_deaths = df_top30[\"Deaths\"].tolist()"
      ],
      "execution_count": 0,
      "outputs": []
    },
    {
      "cell_type": "code",
      "metadata": {
        "id": "nxV1V6O98swz",
        "colab_type": "code",
        "colab": {}
      },
      "source": [
        "total_confirmed = df[\"Confirmed\"].sum()\n",
        "total_recovered = df[\"Recovered\"].sum()\n",
        "total_deaths = df[\"Deaths\"].sum()"
      ],
      "execution_count": 0,
      "outputs": []
    },
    {
      "cell_type": "code",
      "metadata": {
        "id": "Ds4oPDnVF5o4",
        "colab_type": "code",
        "outputId": "2ffead06-79ed-4ed4-8125-7e2c6cb0d81f",
        "colab": {
          "base_uri": "https://localhost:8080/",
          "height": 542
        }
      },
      "source": [
        "fig.add_trace(\n",
        "    go.Scattergeo(\n",
        "        locationmode = \"country names\",\n",
        "        lon = df[\"Long_\"],\n",
        "        lat = df[\"Lat\"],\n",
        "        hovertext = df[\"text\"],\n",
        "        showlegend=False,\n",
        "        marker = dict(\n",
        "            size = 10,\n",
        "            opacity = 0.5,\n",
        "            reversescale = True,\n",
        "            autocolorscale = True,\n",
        "            symbol = 'circle',\n",
        "            line = dict(\n",
        "                width=1,\n",
        "                color='white'\n",
        "            ),\n",
        "            cmin = 0,\n",
        "            color = df['Confirmed'],\n",
        "            cmax = df['Confirmed'].max(),\n",
        "        )\n",
        "\n",
        "    ),\n",
        "    \n",
        "    row=1, col=1\n",
        ")\n",
        "\n",
        "fig.add_trace(\n",
        "    go.Indicator(\n",
        "        mode=\"number\",\n",
        "        value=total_confirmed,\n",
        "        title=\"Confirmed Cases\",\n",
        "    ),\n",
        "    row=1, col=4\n",
        ")\n",
        "fig.add_trace(\n",
        "    go.Indicator(\n",
        "        mode=\"number\",\n",
        "        value=total_recovered,\n",
        "        title=\"Recovered Cases\",\n",
        "    ),\n",
        "    row=1, col=5\n",
        ")\n",
        "\n",
        "fig.add_trace(\n",
        "    go.Indicator(\n",
        "        mode=\"number\",\n",
        "        value=total_deaths,\n",
        "        title=\"Deaths\",\n",
        "    ),\n",
        "    row=1, col=6\n",
        ")\n",
        "\n",
        "fig.add_trace(\n",
        "    go.Bar(\n",
        "        x=top10_countries_1,\n",
        "        y=top10_confirmed, \n",
        "        name= \"Confirmed Cases\",\n",
        "        marker=dict(color=\"#001a66\"), \n",
        "        showlegend=False,\n",
        "    ),\n",
        "    row=2, col=4\n",
        ")\n",
        "\n",
        "fig.add_trace(\n",
        "    go.Bar(x=top10_countries_2,\n",
        "        y=top10_recovered, \n",
        "        name= \"Recovered Cases\",\n",
        "        marker=dict(color=\"#004d99\"), \n",
        "        showlegend=False),\n",
        "    row=3, col=4\n",
        ")\n",
        "\n",
        "fig.add_trace(\n",
        "    go.Bar(\n",
        "        x=top10_countries_3,\n",
        "        y=top10_deaths, \n",
        "        name= \"Deaths\",\n",
        "        marker=dict(color=\"#809fff\"), \n",
        "        showlegend=False),\n",
        "    row=4, col=4\n",
        ")\n",
        "fig.update_layout(\n",
        "    template=\"plotly_white\",\n",
        "    title = \"Global COVID-19 Cases\",\n",
        "    showlegend=False,\n",
        "    legend_orientation=\"h\",\n",
        "    legend=dict(x=0.65, y=0.8),\n",
        ")\n"
      ],
      "execution_count": 10,
      "outputs": [
        {
          "output_type": "display_data",
          "data": {
            "text/html": [
              "<html>\n",
              "<head><meta charset=\"utf-8\" /></head>\n",
              "<body>\n",
              "    <div>\n",
              "            <script src=\"https://cdnjs.cloudflare.com/ajax/libs/mathjax/2.7.5/MathJax.js?config=TeX-AMS-MML_SVG\"></script><script type=\"text/javascript\">if (window.MathJax) {MathJax.Hub.Config({SVG: {font: \"STIX-Web\"}});}</script>\n",
              "                <script type=\"text/javascript\">window.PlotlyConfig = {MathJaxConfig: 'local'};</script>\n",
              "        <script src=\"https://cdn.plot.ly/plotly-latest.min.js\"></script>    \n",
              "            <div id=\"aa539aaf-cbba-4ae3-9290-2d029ab88ab3\" class=\"plotly-graph-div\" style=\"height:525px; width:100%;\"></div>\n",
              "            <script type=\"text/javascript\">\n",
              "                \n",
              "                    window.PLOTLYENV=window.PLOTLYENV || {};\n",
              "                    \n",
              "                if (document.getElementById(\"aa539aaf-cbba-4ae3-9290-2d029ab88ab3\")) {\n",
              "                    Plotly.newPlot(\n",
              "                        'aa539aaf-cbba-4ae3-9290-2d029ab88ab3',\n",
              "                        [{\"geo\": \"geo\", \"hovertext\": [\"Australia<br>Confirmed: 7251<br>Deaths: 102<br>Recovered: 6683<br>\", \"Austria<br>Confirmed: 16843<br>Deaths: 672<br>Recovered: 15742<br>\", \"Canada<br>Confirmed: 95269<br>Deaths: 7717<br>Recovered: 52184<br>\", \"China<br>Confirmed: 84171<br>Deaths: 4638<br>Recovered: 79416<br>\", \"Denmark<br>Confirmed: 12011<br>Deaths: 582<br>Recovered: 10820<br>\", \"Finland<br>Confirmed: 6941<br>Deaths: 322<br>Recovered: 5800<br>\", \"France<br>Confirmed: 189569<br>Deaths: 29068<br>Recovered: 70094<br>\", \"Germany<br>Confirmed: 184924<br>Deaths: 8642<br>Recovered: 168400<br>\", \"Iceland<br>Confirmed: 1806<br>Deaths: 10<br>Recovered: 1794<br>\", \"Ireland<br>Confirmed: 25142<br>Deaths: 1664<br>Recovered: 22698<br>\", \"Italy<br>Confirmed: 234013<br>Deaths: 33689<br>Recovered: 161895<br>\", \"Netherlands<br>Confirmed: 47148<br>Deaths: 6009<br>Recovered: 181<br>\", \"Norway<br>Confirmed: 8504<br>Deaths: 238<br>Recovered: 8138<br>\", \"Russia<br>Confirmed: 449256<br>Deaths: 5520<br>Recovered: 212237<br>\", \"Sweden<br>Confirmed: 41883<br>Deaths: 4562<br>Recovered: 0<br>\", \"Switzerland<br>Confirmed: 30936<br>Deaths: 1921<br>Recovered: 28600<br>\", \"United Kingdom<br>Confirmed: 283080<br>Deaths: 39987<br>Recovered: 1219<br>\", \"US<br>Confirmed: 1872660<br>Deaths: 108211<br>Recovered: 485002<br>\", \"Spain<br>Confirmed: 240660<br>Deaths: 27133<br>Recovered: 150376<br>\", \"Mexico<br>Confirmed: 105680<br>Deaths: 12545<br>Recovered: 74758<br>\", \"Chile<br>Confirmed: 118292<br>Deaths: 1356<br>Recovered: 21305<br>\", \"Brazil<br>Confirmed: 614941<br>Deaths: 34021<br>Recovered: 254963<br>\", \"Peru<br>Confirmed: 183198<br>Deaths: 5031<br>Recovered: 76228<br>\", \"Colombia<br>Confirmed: 35240<br>Deaths: 1142<br>Recovered: 12952<br>\", \"Japan<br>Confirmed: 16948<br>Deaths: 913<br>Recovered: 14785<br>\", \"Ukraine<br>Confirmed: 26542<br>Deaths: 770<br>Recovered: 11815<br>\", \"Afghanistan<br>Confirmed: 18969<br>Deaths: 309<br>Recovered: 1762<br>\", \"Albania<br>Confirmed: 1212<br>Deaths: 33<br>Recovered: 910<br>\", \"Algeria<br>Confirmed: 9831<br>Deaths: 681<br>Recovered: 6297<br>\", \"Andorra<br>Confirmed: 852<br>Deaths: 51<br>Recovered: 738<br>\", \"Angola<br>Confirmed: 86<br>Deaths: 4<br>Recovered: 18<br>\", \"Antigua and Barbuda<br>Confirmed: 26<br>Deaths: 3<br>Recovered: 20<br>\", \"Argentina<br>Confirmed: 20197<br>Deaths: 608<br>Recovered: 5993<br>\", \"Armenia<br>Confirmed: 11817<br>Deaths: 183<br>Recovered: 3513<br>\", \"Azerbaijan<br>Confirmed: 6522<br>Deaths: 78<br>Recovered: 3737<br>\", \"Bahamas<br>Confirmed: 102<br>Deaths: 11<br>Recovered: 55<br>\", \"Bahrain<br>Confirmed: 13296<br>Deaths: 22<br>Recovered: 7728<br>\", \"Bangladesh<br>Confirmed: 60391<br>Deaths: 811<br>Recovered: 12804<br>\", \"Barbados<br>Confirmed: 92<br>Deaths: 7<br>Recovered: 81<br>\", \"Belarus<br>Confirmed: 46868<br>Deaths: 259<br>Recovered: 22066<br>\", \"Belgium<br>Confirmed: 58907<br>Deaths: 9566<br>Recovered: 16112<br>\", \"Belize<br>Confirmed: 18<br>Deaths: 2<br>Recovered: 16<br>\", \"Benin<br>Confirmed: 261<br>Deaths: 3<br>Recovered: 151<br>\", \"Bhutan<br>Confirmed: 48<br>Deaths: 0<br>Recovered: 11<br>\", \"Bolivia<br>Confirmed: 12245<br>Deaths: 415<br>Recovered: 1658<br>\", \"Bosnia and Herzegovina<br>Confirmed: 2594<br>Deaths: 159<br>Recovered: 1951<br>\", \"Botswana<br>Confirmed: 40<br>Deaths: 1<br>Recovered: 23<br>\", \"Brunei<br>Confirmed: 141<br>Deaths: 2<br>Recovered: 138<br>\", \"Bulgaria<br>Confirmed: 2627<br>Deaths: 159<br>Recovered: 1390<br>\", \"Burkina Faso<br>Confirmed: 885<br>Deaths: 53<br>Recovered: 760<br>\", \"Burma<br>Confirmed: 236<br>Deaths: 6<br>Recovered: 148<br>\", \"Burundi<br>Confirmed: 63<br>Deaths: 1<br>Recovered: 33<br>\", \"Cabo Verde<br>Confirmed: 502<br>Deaths: 5<br>Recovered: 239<br>\", \"Cambodia<br>Confirmed: 125<br>Deaths: 0<br>Recovered: 123<br>\", \"Cameroon<br>Confirmed: 7392<br>Deaths: 205<br>Recovered: 4575<br>\", \"Central African Republic<br>Confirmed: 1288<br>Deaths: 4<br>Recovered: 23<br>\", \"Chad<br>Confirmed: 828<br>Deaths: 66<br>Recovered: 633<br>\", \"Comoros<br>Confirmed: 132<br>Deaths: 2<br>Recovered: 55<br>\", \"Congo (Brazzaville)<br>Confirmed: 611<br>Deaths: 20<br>Recovered: 179<br>\", \"Congo (Kinshasa)<br>Confirmed: 3764<br>Deaths: 81<br>Recovered: 512<br>\", \"Costa Rica<br>Confirmed: 1194<br>Deaths: 10<br>Recovered: 687<br>\", \"Cote d'Ivoire<br>Confirmed: 3262<br>Deaths: 35<br>Recovered: 1584<br>\", \"Croatia<br>Confirmed: 2247<br>Deaths: 103<br>Recovered: 2105<br>\", \"Cuba<br>Confirmed: 2119<br>Deaths: 83<br>Recovered: 1839<br>\", \"Cyprus<br>Confirmed: 958<br>Deaths: 17<br>Recovered: 807<br>\", \"Czechia<br>Confirmed: 9494<br>Deaths: 326<br>Recovered: 6809<br>\", \"Diamond Princess<br>Confirmed: 712<br>Deaths: 13<br>Recovered: 651<br>\", \"Djibouti<br>Confirmed: 4054<br>Deaths: 26<br>Recovered: 1685<br>\", \"Dominica<br>Confirmed: 18<br>Deaths: 0<br>Recovered: 16<br>\", \"Dominican Republic<br>Confirmed: 18319<br>Deaths: 520<br>Recovered: 11474<br>\", \"Ecuador<br>Confirmed: 40966<br>Deaths: 3486<br>Recovered: 20019<br>\", \"Egypt<br>Confirmed: 29767<br>Deaths: 1126<br>Recovered: 7756<br>\", \"El Salvador<br>Confirmed: 2849<br>Deaths: 53<br>Recovered: 1249<br>\", \"Equatorial Guinea<br>Confirmed: 1306<br>Deaths: 12<br>Recovered: 200<br>\", \"Eritrea<br>Confirmed: 39<br>Deaths: 0<br>Recovered: 39<br>\", \"Estonia<br>Confirmed: 1910<br>Deaths: 69<br>Recovered: 1667<br>\", \"Eswatini<br>Confirmed: 300<br>Deaths: 3<br>Recovered: 201<br>\", \"Ethiopia<br>Confirmed: 1636<br>Deaths: 18<br>Recovered: 250<br>\", \"Fiji<br>Confirmed: 18<br>Deaths: 0<br>Recovered: 18<br>\", \"Gabon<br>Confirmed: 2955<br>Deaths: 21<br>Recovered: 818<br>\", \"Gambia<br>Confirmed: 26<br>Deaths: 1<br>Recovered: 20<br>\", \"Georgia<br>Confirmed: 805<br>Deaths: 13<br>Recovered: 650<br>\", \"Ghana<br>Confirmed: 8885<br>Deaths: 38<br>Recovered: 3189<br>\", \"Greece<br>Confirmed: 2952<br>Deaths: 180<br>Recovered: 1374<br>\", \"Grenada<br>Confirmed: 23<br>Deaths: 0<br>Recovered: 18<br>\", \"Guatemala<br>Confirmed: 6154<br>Deaths: 158<br>Recovered: 979<br>\", \"Guinea<br>Confirmed: 3991<br>Deaths: 23<br>Recovered: 2512<br>\", \"Guinea-Bissau<br>Confirmed: 1339<br>Deaths: 8<br>Recovered: 53<br>\", \"Guyana<br>Confirmed: 153<br>Deaths: 12<br>Recovered: 77<br>\", \"Haiti<br>Confirmed: 2640<br>Deaths: 50<br>Recovered: 24<br>\", \"Holy See<br>Confirmed: 12<br>Deaths: 0<br>Recovered: 2<br>\", \"Honduras<br>Confirmed: 5880<br>Deaths: 243<br>Recovered: 648<br>\", \"Hungary<br>Confirmed: 3970<br>Deaths: 542<br>Recovered: 2245<br>\", \"India<br>Confirmed: 227273<br>Deaths: 6367<br>Recovered: 109462<br>\", \"Indonesia<br>Confirmed: 29521<br>Deaths: 1770<br>Recovered: 9443<br>\", \"Iran<br>Confirmed: 164270<br>Deaths: 8071<br>Recovered: 127485<br>\", \"Iraq<br>Confirmed: 8840<br>Deaths: 271<br>Recovered: 4338<br>\", \"Israel<br>Confirmed: 17562<br>Deaths: 291<br>Recovered: 15026<br>\", \"Jamaica<br>Confirmed: 591<br>Deaths: 10<br>Recovered: 368<br>\", \"Jordan<br>Confirmed: 765<br>Deaths: 9<br>Recovered: 566<br>\", \"Kazakhstan<br>Confirmed: 12312<br>Deaths: 52<br>Recovered: 6696<br>\", \"Kenya<br>Confirmed: 2340<br>Deaths: 78<br>Recovered: 592<br>\", \"Korea, South<br>Confirmed: 11668<br>Deaths: 273<br>Recovered: 10506<br>\", \"Kosovo<br>Confirmed: 1142<br>Deaths: 30<br>Recovered: 871<br>\", \"Kuwait<br>Confirmed: 29921<br>Deaths: 236<br>Recovered: 17223<br>\", \"Kyrgyzstan<br>Confirmed: 1936<br>Deaths: 22<br>Recovered: 1340<br>\", \"Laos<br>Confirmed: 19<br>Deaths: 0<br>Recovered: 18<br>\", \"Latvia<br>Confirmed: 1085<br>Deaths: 25<br>Recovered: 781<br>\", \"Lebanon<br>Confirmed: 1306<br>Deaths: 28<br>Recovered: 731<br>\", \"Lesotho<br>Confirmed: 4<br>Deaths: 0<br>Recovered: 2<br>\", \"Liberia<br>Confirmed: 321<br>Deaths: 28<br>Recovered: 175<br>\", \"Libya<br>Confirmed: 209<br>Deaths: 5<br>Recovered: 52<br>\", \"Liechtenstein<br>Confirmed: 82<br>Deaths: 1<br>Recovered: 55<br>\", \"Lithuania<br>Confirmed: 1694<br>Deaths: 71<br>Recovered: 1302<br>\", \"Luxembourg<br>Confirmed: 4027<br>Deaths: 110<br>Recovered: 3874<br>\", \"MS Zaandam<br>Confirmed: 9<br>Deaths: 2<br>Recovered: 0<br>\", \"Madagascar<br>Confirmed: 957<br>Deaths: 7<br>Recovered: 200<br>\", \"Malawi<br>Confirmed: 393<br>Deaths: 4<br>Recovered: 51<br>\", \"Malaysia<br>Confirmed: 8266<br>Deaths: 116<br>Recovered: 6610<br>\", \"Maldives<br>Confirmed: 1872<br>Deaths: 7<br>Recovered: 648<br>\", \"Mali<br>Confirmed: 1461<br>Deaths: 85<br>Recovered: 806<br>\", \"Malta<br>Confirmed: 622<br>Deaths: 9<br>Recovered: 576<br>\", \"Mauritania<br>Confirmed: 784<br>Deaths: 39<br>Recovered: 65<br>\", \"Mauritius<br>Confirmed: 335<br>Deaths: 10<br>Recovered: 322<br>\", \"Moldova<br>Confirmed: 9018<br>Deaths: 317<br>Recovered: 5240<br>\", \"Monaco<br>Confirmed: 99<br>Deaths: 4<br>Recovered: 92<br>\", \"Mongolia<br>Confirmed: 191<br>Deaths: 0<br>Recovered: 70<br>\", \"Montenegro<br>Confirmed: 324<br>Deaths: 9<br>Recovered: 315<br>\", \"Morocco<br>Confirmed: 8030<br>Deaths: 208<br>Recovered: 7215<br>\", \"Mozambique<br>Confirmed: 352<br>Deaths: 2<br>Recovered: 114<br>\", \"Namibia<br>Confirmed: 25<br>Deaths: 0<br>Recovered: 16<br>\", \"Nepal<br>Confirmed: 2634<br>Deaths: 10<br>Recovered: 290<br>\", \"New Zealand<br>Confirmed: 1504<br>Deaths: 22<br>Recovered: 1481<br>\", \"Nicaragua<br>Confirmed: 1118<br>Deaths: 46<br>Recovered: 370<br>\", \"Niger<br>Confirmed: 963<br>Deaths: 65<br>Recovered: 860<br>\", \"Nigeria<br>Confirmed: 11516<br>Deaths: 323<br>Recovered: 3535<br>\", \"North Macedonia<br>Confirmed: 2611<br>Deaths: 147<br>Recovered: 1621<br>\", \"Oman<br>Confirmed: 15086<br>Deaths: 72<br>Recovered: 3451<br>\", \"Pakistan<br>Confirmed: 89249<br>Deaths: 1838<br>Recovered: 31198<br>\", \"Panama<br>Confirmed: 15044<br>Deaths: 363<br>Recovered: 9619<br>\", \"Papua New Guinea<br>Confirmed: 8<br>Deaths: 0<br>Recovered: 8<br>\", \"Paraguay<br>Confirmed: 1086<br>Deaths: 11<br>Recovered: 511<br>\", \"Philippines<br>Confirmed: 20626<br>Deaths: 987<br>Recovered: 4330<br>\", \"Poland<br>Confirmed: 25177<br>Deaths: 1127<br>Recovered: 12410<br>\", \"Portugal<br>Confirmed: 33592<br>Deaths: 1455<br>Recovered: 20323<br>\", \"Qatar<br>Confirmed: 63741<br>Deaths: 45<br>Recovered: 39468<br>\", \"Romania<br>Confirmed: 20103<br>Deaths: 1308<br>Recovered: 14145<br>\", \"Rwanda<br>Confirmed: 410<br>Deaths: 2<br>Recovered: 280<br>\", \"Saint Kitts and Nevis<br>Confirmed: 15<br>Deaths: 0<br>Recovered: 15<br>\", \"Saint Lucia<br>Confirmed: 19<br>Deaths: 0<br>Recovered: 18<br>\", \"Saint Vincent and the Grenadines<br>Confirmed: 26<br>Deaths: 0<br>Recovered: 15<br>\", \"San Marino<br>Confirmed: 678<br>Deaths: 42<br>Recovered: 408<br>\", \"Sao Tome and Principe<br>Confirmed: 485<br>Deaths: 12<br>Recovered: 68<br>\", \"Saudi Arabia<br>Confirmed: 93157<br>Deaths: 611<br>Recovered: 68965<br>\", \"Senegal<br>Confirmed: 4155<br>Deaths: 45<br>Recovered: 2276<br>\", \"Serbia<br>Confirmed: 11571<br>Deaths: 246<br>Recovered: 6910<br>\", \"Seychelles<br>Confirmed: 11<br>Deaths: 0<br>Recovered: 11<br>\", \"Sierra Leone<br>Confirmed: 914<br>Deaths: 47<br>Recovered: 491<br>\", \"Singapore<br>Confirmed: 37183<br>Deaths: 24<br>Recovered: 23904<br>\", \"Slovakia<br>Confirmed: 1526<br>Deaths: 28<br>Recovered: 1379<br>\", \"Slovenia<br>Confirmed: 1479<br>Deaths: 109<br>Recovered: 1359<br>\", \"Somalia<br>Confirmed: 2204<br>Deaths: 79<br>Recovered: 418<br>\", \"South Africa<br>Confirmed: 40792<br>Deaths: 848<br>Recovered: 21311<br>\", \"South Sudan<br>Confirmed: 994<br>Deaths: 10<br>Recovered: 6<br>\", \"Sri Lanka<br>Confirmed: 1797<br>Deaths: 11<br>Recovered: 858<br>\", \"Sudan<br>Confirmed: 5714<br>Deaths: 333<br>Recovered: 1825<br>\", \"Suriname<br>Confirmed: 82<br>Deaths: 1<br>Recovered: 9<br>\", \"Syria<br>Confirmed: 124<br>Deaths: 6<br>Recovered: 53<br>\", \"Taiwan*<br>Confirmed: 443<br>Deaths: 7<br>Recovered: 429<br>\", \"Tajikistan<br>Confirmed: 4289<br>Deaths: 48<br>Recovered: 2401<br>\", \"Tanzania<br>Confirmed: 509<br>Deaths: 21<br>Recovered: 183<br>\", \"Thailand<br>Confirmed: 3102<br>Deaths: 58<br>Recovered: 2971<br>\", \"Timor-Leste<br>Confirmed: 24<br>Deaths: 0<br>Recovered: 24<br>\", \"Togo<br>Confirmed: 465<br>Deaths: 13<br>Recovered: 239<br>\", \"Trinidad and Tobago<br>Confirmed: 117<br>Deaths: 8<br>Recovered: 108<br>\", \"Tunisia<br>Confirmed: 1087<br>Deaths: 49<br>Recovered: 969<br>\", \"Turkey<br>Confirmed: 167410<br>Deaths: 4630<br>Recovered: 131778<br>\", \"Uganda<br>Confirmed: 557<br>Deaths: 0<br>Recovered: 82<br>\", \"United Arab Emirates<br>Confirmed: 37018<br>Deaths: 273<br>Recovered: 19572<br>\", \"Uruguay<br>Confirmed: 832<br>Deaths: 23<br>Recovered: 709<br>\", \"Uzbekistan<br>Confirmed: 3965<br>Deaths: 16<br>Recovered: 3087<br>\", \"Venezuela<br>Confirmed: 2087<br>Deaths: 20<br>Recovered: 334<br>\", \"Vietnam<br>Confirmed: 328<br>Deaths: 0<br>Recovered: 307<br>\", \"West Bank and Gaza<br>Confirmed: 464<br>Deaths: 3<br>Recovered: 377<br>\", \"Western Sahara<br>Confirmed: 9<br>Deaths: 1<br>Recovered: 6<br>\", \"Yemen<br>Confirmed: 453<br>Deaths: 103<br>Recovered: 17<br>\", \"Zambia<br>Confirmed: 1089<br>Deaths: 7<br>Recovered: 912<br>\", \"Zimbabwe<br>Confirmed: 237<br>Deaths: 4<br>Recovered: 31<br>\"], \"lat\": [-25.0, 47.5162, 60.001, 30.5928, 56.2639, 61.9241, 46.2276, 51.165691, 64.9631, 53.1424, 41.8719, 52.3167, 60.472, 61.524, 60.1282, 46.8182, 55.0, 40.0, 40.463667, 23.6345, -35.6751, -14.235, -9.19, 4.5709, 36.204824, 48.3794, 33.93911, 41.1533, 28.0339, 42.5063, -11.2027, 17.0608, -38.4161, 40.0691, 40.1431, 25.025885, 26.0275, 23.685, 13.1939, 53.7098, 50.8333, 17.1899, 9.3077, 27.5142, -16.2902, 43.9159, -22.3285, 4.5353, 42.7339, 12.2383, 21.9162, -3.3731, 16.5388, 11.55, 3.848, 6.6111, 15.4542, -11.6455, -0.228, -4.0383, 9.7489, 7.54, 45.1, 21.521757, 35.1264, 49.8175, null, 11.8251, 15.415, 18.7357, -1.8312, 26.820553, 13.7942, 1.6508, 15.1794, 58.5953, -26.5225, 9.145, -17.7134, -0.8037, 13.4432, 42.3154, 7.9465, 39.0742, 12.1165, 15.7835, 9.9456, 11.8037, 4.860416, 18.9712, 41.9029, 15.2, 47.1625, 20.593684, -0.7893, 32.427908, 33.223191, 31.046051, 18.1096, 31.24, 48.0196, -0.0236, 35.907757, 42.602636, 29.31166, 41.20438, 19.85627, 56.8796, 33.8547, -29.609988, 6.428055, 26.3351, 47.14, 55.1694, 49.8153, null, -18.766947, -13.254308, 4.210484, 3.2028, 17.570692, 35.9375, 21.0079, -20.348404, 47.4116, 43.7333, 46.8625, 42.708678, 31.7917, -18.665695, -22.9576, 28.1667, -40.9006, 12.865416, 17.607789, 9.082, 41.6086, 21.512583, 30.3753, 8.538, -6.314993, -23.4425, 12.879721, 51.9194, 39.3999, 25.3548, 45.9432, -1.9403, 17.357822, 13.9094, 12.9843, 43.9424, 0.18636, 23.885942, 14.4974, 44.0165, -4.6796, 8.460555, 1.2833, 48.669, 46.1512, 5.152149, -30.5595, 6.877, 7.873054, 12.8628, 3.9193, 34.802075, 23.7, 38.861034, -6.369028, 15.870032, -8.874217, 8.6195, 10.6918, 33.886917, 38.9637, 1.373333, 23.424076, -32.5228, 41.377491, 6.4238, 14.058324, 31.9522, 24.2155, 15.552727, -13.133897, -19.015438], \"locationmode\": \"country names\", \"lon\": [133.0, 14.5501, -95.001, 114.3055, 9.5018, 25.7482, 2.2137, 10.451526, -19.0208, -7.6921, 12.5674, 5.55, 8.4689, 105.3188, 18.6435, 8.2275, -3.0, -100.0, -3.74922, -102.5528, -71.543, -51.9253, -75.0152, -74.2973, 138.252924, 31.1656, 67.709953, 20.1683, 1.6596, 1.5218, 17.8739, -61.7964, -63.6167, 45.0382, 47.5769, -78.035889, 50.55, 90.3563, -59.5432, 27.9534, 4.469936, -88.4976, 2.3158, 90.4336, -63.5887, 17.6791, 24.6849, 114.7277, 25.4858, -1.5616, 95.956, 29.9189, -23.0418, 104.9167, 11.5021, 20.9394, 18.7322, 43.3333, 15.8277, 21.7587, -83.7534, -5.5471, 15.2, -77.781167, 33.4299, 15.473, null, 42.5903, -61.371, -70.1627, -78.1834, 30.802498, -88.8965, 10.2679, 39.7823, 25.0136, 31.4659, 40.4897, 178.065, 11.6094, -15.3101, 43.3569, -1.0232, 21.8243, -61.679, -90.2308, -9.6966, -15.1804, -58.93018, -72.2852, 12.4534, -86.2419, 19.5033, 78.96288, 113.9213, 53.688046, 43.679291, 34.851612, -77.2975, 36.51, 66.9237, 37.9062, 127.766922, 20.902977, 47.481766, 74.766098, 102.495496, 24.6032, 35.8623, 28.233608, -9.429499, 17.228331, 9.55, 23.8813, 6.1296, null, 46.869107, 34.301525, 101.975766, 73.2207, -3.996166, 14.3754, -10.9408, 57.552152, 28.3699, 7.4167, 103.8467, 19.37439, -7.0926, 35.529562, 18.4904, 84.25, 174.886, -85.207229, 8.081666, 8.6753, 21.7453, 55.923255, 69.3451, -80.7821, 143.95555, -58.4438, 121.774017, 19.1451, -8.2245, 51.1839, 24.9668, 29.8739, -62.782998, -60.9789, -61.2872, 12.4578, 6.613081, 45.079162, -14.4524, 21.0059, 55.492, -11.779889, 103.8333, 19.699, 14.9955, 46.199616, 22.9375, 31.307, 80.771797, 30.2176, -56.0278, 38.996815, 121.0, 71.276093, 34.888822, 100.992541, 125.727539, 0.8248, -61.2225, 9.537499, 35.2433, 32.290275, 53.847818, -55.7658, 64.585262, -66.5897, 108.277199, 35.2332, -12.8858, 48.516388, 27.849332, 29.154857], \"marker\": {\"autocolorscale\": true, \"cmax\": 1872660, \"cmin\": 0, \"color\": [7251, 16843, 95269, 84171, 12011, 6941, 189569, 184924, 1806, 25142, 234013, 47148, 8504, 449256, 41883, 30936, 283080, 1872660, 240660, 105680, 118292, 614941, 183198, 35240, 16948, 26542, 18969, 1212, 9831, 852, 86, 26, 20197, 11817, 6522, 102, 13296, 60391, 92, 46868, 58907, 18, 261, 48, 12245, 2594, 40, 141, 2627, 885, 236, 63, 502, 125, 7392, 1288, 828, 132, 611, 3764, 1194, 3262, 2247, 2119, 958, 9494, 712, 4054, 18, 18319, 40966, 29767, 2849, 1306, 39, 1910, 300, 1636, 18, 2955, 26, 805, 8885, 2952, 23, 6154, 3991, 1339, 153, 2640, 12, 5880, 3970, 227273, 29521, 164270, 8840, 17562, 591, 765, 12312, 2340, 11668, 1142, 29921, 1936, 19, 1085, 1306, 4, 321, 209, 82, 1694, 4027, 9, 957, 393, 8266, 1872, 1461, 622, 784, 335, 9018, 99, 191, 324, 8030, 352, 25, 2634, 1504, 1118, 963, 11516, 2611, 15086, 89249, 15044, 8, 1086, 20626, 25177, 33592, 63741, 20103, 410, 15, 19, 26, 678, 485, 93157, 4155, 11571, 11, 914, 37183, 1526, 1479, 2204, 40792, 994, 1797, 5714, 82, 124, 443, 4289, 509, 3102, 24, 465, 117, 1087, 167410, 557, 37018, 832, 3965, 2087, 328, 464, 9, 453, 1089, 237], \"line\": {\"color\": \"white\", \"width\": 1}, \"opacity\": 0.5, \"reversescale\": true, \"size\": 10, \"symbol\": \"circle\"}, \"showlegend\": false, \"type\": \"scattergeo\"}, {\"domain\": {\"x\": [0.5166666666666667, 0.6555555555555557], \"y\": [0.80625, 1.0]}, \"mode\": \"number\", \"title\": {\"text\": \"Confirmed Cases\"}, \"type\": \"indicator\", \"value\": 6658334}, {\"domain\": {\"x\": [0.6888888888888889, 0.8277777777777777], \"y\": [0.80625, 1.0]}, \"mode\": \"number\", \"title\": {\"text\": \"Recovered Cases\"}, \"type\": \"indicator\", \"value\": 2886183}, {\"domain\": {\"x\": [0.861111111111111, 1.0], \"y\": [0.80625, 1.0]}, \"mode\": \"number\", \"title\": {\"text\": \"Deaths\"}, \"type\": \"indicator\", \"value\": 391588}, {\"marker\": {\"color\": \"#001a66\"}, \"name\": \"Confirmed Cases\", \"showlegend\": false, \"type\": \"bar\", \"x\": [\"US\", \"Brazil\", \"Russia\", \"United Kingdom\", \"Spain\", \"Italy\", \"India\", \"France\", \"Germany\", \"Peru\"], \"xaxis\": \"x\", \"y\": [1872660, 614941, 449256, 283080, 240660, 234013, 227273, 189569, 184924, 183198], \"yaxis\": \"y\"}, {\"marker\": {\"color\": \"#004d99\"}, \"name\": \"Recovered Cases\", \"showlegend\": false, \"type\": \"bar\", \"x\": [\"US\", \"Brazil\", \"Russia\", \"Germany\", \"Italy\", \"Spain\", \"Turkey\", \"Iran\", \"India\", \"China\"], \"xaxis\": \"x2\", \"y\": [485002, 254963, 212237, 168400, 161895, 150376, 131778, 127485, 109462, 79416], \"yaxis\": \"y2\"}, {\"marker\": {\"color\": \"#809fff\"}, \"name\": \"Deaths\", \"showlegend\": false, \"type\": \"bar\", \"x\": [\"US\", \"United Kingdom\", \"Brazil\", \"Italy\", \"France\", \"Spain\", \"Mexico\", \"Belgium\", \"Germany\", \"Iran\"], \"xaxis\": \"x3\", \"y\": [108211, 39987, 34021, 33689, 29068, 27133, 12545, 9566, 8642, 8071], \"yaxis\": \"y3\"}],\n",
              "                        {\"geo\": {\"domain\": {\"x\": [0.0, 0.48333333333333334], \"y\": [0.0, 1.0]}}, \"legend\": {\"orientation\": \"h\", \"x\": 0.65, \"y\": 0.8}, \"showlegend\": false, \"template\": {\"data\": {\"bar\": [{\"error_x\": {\"color\": \"#2a3f5f\"}, \"error_y\": {\"color\": \"#2a3f5f\"}, \"marker\": {\"line\": {\"color\": \"white\", \"width\": 0.5}}, \"type\": \"bar\"}], \"barpolar\": [{\"marker\": {\"line\": {\"color\": \"white\", \"width\": 0.5}}, \"type\": \"barpolar\"}], \"carpet\": [{\"aaxis\": {\"endlinecolor\": \"#2a3f5f\", \"gridcolor\": \"#C8D4E3\", \"linecolor\": \"#C8D4E3\", \"minorgridcolor\": \"#C8D4E3\", \"startlinecolor\": \"#2a3f5f\"}, \"baxis\": {\"endlinecolor\": \"#2a3f5f\", \"gridcolor\": \"#C8D4E3\", \"linecolor\": \"#C8D4E3\", \"minorgridcolor\": \"#C8D4E3\", \"startlinecolor\": \"#2a3f5f\"}, \"type\": \"carpet\"}], \"choropleth\": [{\"colorbar\": {\"outlinewidth\": 0, \"ticks\": \"\"}, \"type\": \"choropleth\"}], \"contour\": [{\"colorbar\": {\"outlinewidth\": 0, \"ticks\": \"\"}, \"colorscale\": [[0.0, \"#0d0887\"], [0.1111111111111111, \"#46039f\"], [0.2222222222222222, \"#7201a8\"], [0.3333333333333333, \"#9c179e\"], [0.4444444444444444, \"#bd3786\"], [0.5555555555555556, \"#d8576b\"], [0.6666666666666666, \"#ed7953\"], [0.7777777777777778, \"#fb9f3a\"], [0.8888888888888888, \"#fdca26\"], [1.0, \"#f0f921\"]], \"type\": \"contour\"}], \"contourcarpet\": [{\"colorbar\": {\"outlinewidth\": 0, \"ticks\": \"\"}, \"type\": \"contourcarpet\"}], \"heatmap\": [{\"colorbar\": {\"outlinewidth\": 0, \"ticks\": \"\"}, \"colorscale\": [[0.0, \"#0d0887\"], [0.1111111111111111, \"#46039f\"], [0.2222222222222222, \"#7201a8\"], [0.3333333333333333, \"#9c179e\"], [0.4444444444444444, \"#bd3786\"], [0.5555555555555556, \"#d8576b\"], [0.6666666666666666, \"#ed7953\"], [0.7777777777777778, \"#fb9f3a\"], [0.8888888888888888, \"#fdca26\"], [1.0, \"#f0f921\"]], \"type\": \"heatmap\"}], \"heatmapgl\": [{\"colorbar\": {\"outlinewidth\": 0, \"ticks\": \"\"}, \"colorscale\": [[0.0, \"#0d0887\"], [0.1111111111111111, \"#46039f\"], [0.2222222222222222, \"#7201a8\"], [0.3333333333333333, \"#9c179e\"], [0.4444444444444444, \"#bd3786\"], [0.5555555555555556, \"#d8576b\"], [0.6666666666666666, \"#ed7953\"], [0.7777777777777778, \"#fb9f3a\"], [0.8888888888888888, \"#fdca26\"], [1.0, \"#f0f921\"]], \"type\": \"heatmapgl\"}], \"histogram\": [{\"marker\": {\"colorbar\": {\"outlinewidth\": 0, \"ticks\": \"\"}}, \"type\": \"histogram\"}], \"histogram2d\": [{\"colorbar\": {\"outlinewidth\": 0, \"ticks\": \"\"}, \"colorscale\": [[0.0, \"#0d0887\"], [0.1111111111111111, \"#46039f\"], [0.2222222222222222, \"#7201a8\"], [0.3333333333333333, \"#9c179e\"], [0.4444444444444444, \"#bd3786\"], [0.5555555555555556, \"#d8576b\"], [0.6666666666666666, \"#ed7953\"], [0.7777777777777778, \"#fb9f3a\"], [0.8888888888888888, \"#fdca26\"], [1.0, \"#f0f921\"]], \"type\": \"histogram2d\"}], \"histogram2dcontour\": [{\"colorbar\": {\"outlinewidth\": 0, \"ticks\": \"\"}, \"colorscale\": [[0.0, \"#0d0887\"], [0.1111111111111111, \"#46039f\"], [0.2222222222222222, \"#7201a8\"], [0.3333333333333333, \"#9c179e\"], [0.4444444444444444, \"#bd3786\"], [0.5555555555555556, \"#d8576b\"], [0.6666666666666666, \"#ed7953\"], [0.7777777777777778, \"#fb9f3a\"], [0.8888888888888888, \"#fdca26\"], [1.0, \"#f0f921\"]], \"type\": \"histogram2dcontour\"}], \"mesh3d\": [{\"colorbar\": {\"outlinewidth\": 0, \"ticks\": \"\"}, \"type\": \"mesh3d\"}], \"parcoords\": [{\"line\": {\"colorbar\": {\"outlinewidth\": 0, \"ticks\": \"\"}}, \"type\": \"parcoords\"}], \"pie\": [{\"automargin\": true, \"type\": \"pie\"}], \"scatter\": [{\"marker\": {\"colorbar\": {\"outlinewidth\": 0, \"ticks\": \"\"}}, \"type\": \"scatter\"}], \"scatter3d\": [{\"line\": {\"colorbar\": {\"outlinewidth\": 0, \"ticks\": \"\"}}, \"marker\": {\"colorbar\": {\"outlinewidth\": 0, \"ticks\": \"\"}}, \"type\": \"scatter3d\"}], \"scattercarpet\": [{\"marker\": {\"colorbar\": {\"outlinewidth\": 0, \"ticks\": \"\"}}, \"type\": \"scattercarpet\"}], \"scattergeo\": [{\"marker\": {\"colorbar\": {\"outlinewidth\": 0, \"ticks\": \"\"}}, \"type\": \"scattergeo\"}], \"scattergl\": [{\"marker\": {\"colorbar\": {\"outlinewidth\": 0, \"ticks\": \"\"}}, \"type\": \"scattergl\"}], \"scattermapbox\": [{\"marker\": {\"colorbar\": {\"outlinewidth\": 0, \"ticks\": \"\"}}, \"type\": \"scattermapbox\"}], \"scatterpolar\": [{\"marker\": {\"colorbar\": {\"outlinewidth\": 0, \"ticks\": \"\"}}, \"type\": \"scatterpolar\"}], \"scatterpolargl\": [{\"marker\": {\"colorbar\": {\"outlinewidth\": 0, \"ticks\": \"\"}}, \"type\": \"scatterpolargl\"}], \"scatterternary\": [{\"marker\": {\"colorbar\": {\"outlinewidth\": 0, \"ticks\": \"\"}}, \"type\": \"scatterternary\"}], \"surface\": [{\"colorbar\": {\"outlinewidth\": 0, \"ticks\": \"\"}, \"colorscale\": [[0.0, \"#0d0887\"], [0.1111111111111111, \"#46039f\"], [0.2222222222222222, \"#7201a8\"], [0.3333333333333333, \"#9c179e\"], [0.4444444444444444, \"#bd3786\"], [0.5555555555555556, \"#d8576b\"], [0.6666666666666666, \"#ed7953\"], [0.7777777777777778, \"#fb9f3a\"], [0.8888888888888888, \"#fdca26\"], [1.0, \"#f0f921\"]], \"type\": \"surface\"}], \"table\": [{\"cells\": {\"fill\": {\"color\": \"#EBF0F8\"}, \"line\": {\"color\": \"white\"}}, \"header\": {\"fill\": {\"color\": \"#C8D4E3\"}, \"line\": {\"color\": \"white\"}}, \"type\": \"table\"}]}, \"layout\": {\"annotationdefaults\": {\"arrowcolor\": \"#2a3f5f\", \"arrowhead\": 0, \"arrowwidth\": 1}, \"coloraxis\": {\"colorbar\": {\"outlinewidth\": 0, \"ticks\": \"\"}}, \"colorscale\": {\"diverging\": [[0, \"#8e0152\"], [0.1, \"#c51b7d\"], [0.2, \"#de77ae\"], [0.3, \"#f1b6da\"], [0.4, \"#fde0ef\"], [0.5, \"#f7f7f7\"], [0.6, \"#e6f5d0\"], [0.7, \"#b8e186\"], [0.8, \"#7fbc41\"], [0.9, \"#4d9221\"], [1, \"#276419\"]], \"sequential\": [[0.0, \"#0d0887\"], [0.1111111111111111, \"#46039f\"], [0.2222222222222222, \"#7201a8\"], [0.3333333333333333, \"#9c179e\"], [0.4444444444444444, \"#bd3786\"], [0.5555555555555556, \"#d8576b\"], [0.6666666666666666, \"#ed7953\"], [0.7777777777777778, \"#fb9f3a\"], [0.8888888888888888, \"#fdca26\"], [1.0, \"#f0f921\"]], \"sequentialminus\": [[0.0, \"#0d0887\"], [0.1111111111111111, \"#46039f\"], [0.2222222222222222, \"#7201a8\"], [0.3333333333333333, \"#9c179e\"], [0.4444444444444444, \"#bd3786\"], [0.5555555555555556, \"#d8576b\"], [0.6666666666666666, \"#ed7953\"], [0.7777777777777778, \"#fb9f3a\"], [0.8888888888888888, \"#fdca26\"], [1.0, \"#f0f921\"]]}, \"colorway\": [\"#636efa\", \"#EF553B\", \"#00cc96\", \"#ab63fa\", \"#FFA15A\", \"#19d3f3\", \"#FF6692\", \"#B6E880\", \"#FF97FF\", \"#FECB52\"], \"font\": {\"color\": \"#2a3f5f\"}, \"geo\": {\"bgcolor\": \"white\", \"lakecolor\": \"white\", \"landcolor\": \"white\", \"showlakes\": true, \"showland\": true, \"subunitcolor\": \"#C8D4E3\"}, \"hoverlabel\": {\"align\": \"left\"}, \"hovermode\": \"closest\", \"mapbox\": {\"style\": \"light\"}, \"paper_bgcolor\": \"white\", \"plot_bgcolor\": \"white\", \"polar\": {\"angularaxis\": {\"gridcolor\": \"#EBF0F8\", \"linecolor\": \"#EBF0F8\", \"ticks\": \"\"}, \"bgcolor\": \"white\", \"radialaxis\": {\"gridcolor\": \"#EBF0F8\", \"linecolor\": \"#EBF0F8\", \"ticks\": \"\"}}, \"scene\": {\"xaxis\": {\"backgroundcolor\": \"white\", \"gridcolor\": \"#DFE8F3\", \"gridwidth\": 2, \"linecolor\": \"#EBF0F8\", \"showbackground\": true, \"ticks\": \"\", \"zerolinecolor\": \"#EBF0F8\"}, \"yaxis\": {\"backgroundcolor\": \"white\", \"gridcolor\": \"#DFE8F3\", \"gridwidth\": 2, \"linecolor\": \"#EBF0F8\", \"showbackground\": true, \"ticks\": \"\", \"zerolinecolor\": \"#EBF0F8\"}, \"zaxis\": {\"backgroundcolor\": \"white\", \"gridcolor\": \"#DFE8F3\", \"gridwidth\": 2, \"linecolor\": \"#EBF0F8\", \"showbackground\": true, \"ticks\": \"\", \"zerolinecolor\": \"#EBF0F8\"}}, \"shapedefaults\": {\"line\": {\"color\": \"#2a3f5f\"}}, \"ternary\": {\"aaxis\": {\"gridcolor\": \"#DFE8F3\", \"linecolor\": \"#A2B1C6\", \"ticks\": \"\"}, \"baxis\": {\"gridcolor\": \"#DFE8F3\", \"linecolor\": \"#A2B1C6\", \"ticks\": \"\"}, \"bgcolor\": \"white\", \"caxis\": {\"gridcolor\": \"#DFE8F3\", \"linecolor\": \"#A2B1C6\", \"ticks\": \"\"}}, \"title\": {\"x\": 0.05}, \"xaxis\": {\"automargin\": true, \"gridcolor\": \"#EBF0F8\", \"linecolor\": \"#EBF0F8\", \"ticks\": \"\", \"title\": {\"standoff\": 15}, \"zerolinecolor\": \"#EBF0F8\", \"zerolinewidth\": 2}, \"yaxis\": {\"automargin\": true, \"gridcolor\": \"#EBF0F8\", \"linecolor\": \"#EBF0F8\", \"ticks\": \"\", \"title\": {\"standoff\": 15}, \"zerolinecolor\": \"#EBF0F8\", \"zerolinewidth\": 2}}}, \"title\": {\"text\": \"Global COVID-19 Cases\"}, \"xaxis\": {\"anchor\": \"y\", \"domain\": [0.5166666666666667, 1.0]}, \"xaxis2\": {\"anchor\": \"y2\", \"domain\": [0.5166666666666667, 1.0]}, \"xaxis3\": {\"anchor\": \"y3\", \"domain\": [0.5166666666666667, 1.0]}, \"yaxis\": {\"anchor\": \"x\", \"domain\": [0.5375, 0.73125]}, \"yaxis2\": {\"anchor\": \"x2\", \"domain\": [0.26875, 0.4625]}, \"yaxis3\": {\"anchor\": \"x3\", \"domain\": [0.0, 0.19375]}},\n",
              "                        {\"responsive\": true}\n",
              "                    ).then(function(){\n",
              "                            \n",
              "var gd = document.getElementById('aa539aaf-cbba-4ae3-9290-2d029ab88ab3');\n",
              "var x = new MutationObserver(function (mutations, observer) {{\n",
              "        var display = window.getComputedStyle(gd).display;\n",
              "        if (!display || display === 'none') {{\n",
              "            console.log([gd, 'removed!']);\n",
              "            Plotly.purge(gd);\n",
              "            observer.disconnect();\n",
              "        }}\n",
              "}});\n",
              "\n",
              "// Listen for the removal of the full notebook cells\n",
              "var notebookContainer = gd.closest('#notebook-container');\n",
              "if (notebookContainer) {{\n",
              "    x.observe(notebookContainer, {childList: true});\n",
              "}}\n",
              "\n",
              "// Listen for the clearing of the current output cell\n",
              "var outputEl = gd.closest('.output');\n",
              "if (outputEl) {{\n",
              "    x.observe(outputEl, {childList: true});\n",
              "}}\n",
              "\n",
              "                        })\n",
              "                };\n",
              "                \n",
              "            </script>\n",
              "        </div>\n",
              "</body>\n",
              "</html>"
            ]
          },
          "metadata": {
            "tags": []
          }
        }
      ]
    },
    {
      "cell_type": "code",
      "metadata": {
        "id": "KzYvOLYHMqYu",
        "colab_type": "code",
        "colab": {}
      },
      "source": [
        "fig.write_html('first_figure.html', auto_open=True)"
      ],
      "execution_count": 0,
      "outputs": []
    },
    {
      "cell_type": "code",
      "metadata": {
        "id": "MJPPNWJ1MrIc",
        "colab_type": "code",
        "colab": {}
      },
      "source": [
        ""
      ],
      "execution_count": 0,
      "outputs": []
    }
  ]
}